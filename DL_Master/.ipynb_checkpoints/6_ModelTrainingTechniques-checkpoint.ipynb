{
 "cells": [
  {
   "cell_type": "markdown",
   "id": "19e3b7a6",
   "metadata": {},
   "source": [
    "## 6-2 모델학습기술\n",
    "\n",
    "1 학습단위 <br>\n",
    "2 데이터 스케일링 <br> \n",
    "3 학습률과 에폭 <br>\n",
    "4 은닉층과 뉴런슈 <br>\n",
    "5 활성화 함수 <br>\n",
    "6 가중치 초기화 <br>\n",
    "7 옵티마이저 <br>"
   ]
  },
  {
   "cell_type": "markdown",
   "id": "aac9a679",
   "metadata": {},
   "source": []
  },
  {
   "cell_type": "code",
   "execution_count": null,
   "id": "5899145b",
   "metadata": {},
   "outputs": [],
   "source": []
  },
  {
   "cell_type": "code",
   "execution_count": null,
   "id": "c70fd1a9",
   "metadata": {},
   "outputs": [],
   "source": []
  },
  {
   "cell_type": "code",
   "execution_count": null,
   "id": "da2d5477",
   "metadata": {},
   "outputs": [],
   "source": []
  }
 ],
 "metadata": {
  "kernelspec": {
   "display_name": "Python 3 (ipykernel)",
   "language": "python",
   "name": "python3"
  },
  "language_info": {
   "codemirror_mode": {
    "name": "ipython",
    "version": 3
   },
   "file_extension": ".py",
   "mimetype": "text/x-python",
   "name": "python",
   "nbconvert_exporter": "python",
   "pygments_lexer": "ipython3",
   "version": "3.9.7"
  }
 },
 "nbformat": 4,
 "nbformat_minor": 5
}
