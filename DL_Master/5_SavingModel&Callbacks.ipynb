{
 "cells": [
  {
   "cell_type": "markdown",
   "id": "1b36c22b",
   "metadata": {},
   "source": [
    "## 5-2 MNIST 딥러닝 모델 예제\n",
    "\n",
    "1. 모듈 임포트\n",
    "2. 데이터 로드 및 전처리\n",
    "3. 모델 구성\n",
    "4. 모델 컴파일 및 학습\n",
    "5. 모델 평가 및 예측"
   ]
  },
  {
   "cell_type": "markdown",
   "id": "7074e8cd",
   "metadata": {},
   "source": [
    "#### 모듈 임포트"
   ]
  },
  {
   "cell_type": "code",
   "execution_count": 1,
   "id": "717dcf3a",
   "metadata": {},
   "outputs": [],
   "source": [
    "import tensorflow as tf\n",
    "from tensorflow import keras\n",
    "from tensorflow.keras import models, layers, utils"
   ]
  },
  {
   "cell_type": "markdown",
   "id": "3eb52689",
   "metadata": {},
   "source": [
    "#### 데이터 로드 및 전처리"
   ]
  },
  {
   "cell_type": "code",
   "execution_count": 2,
   "id": "1cf75e5d",
   "metadata": {},
   "outputs": [
    {
     "name": "stdout",
     "output_type": "stream",
     "text": [
      "전체 학습 데이터: (60000, 28, 28)  레이블: (60000,)\n",
      "학습용 데이터: (42000, 28, 28)  레이블: (42000,)\n",
      "검증용 데이터: (18000, 28, 28)  레이블: (18000,)\n",
      "테스트용 데이터: (10000, 28, 28)  레이블: (10000,)\n"
     ]
    }
   ],
   "source": [
    "from tensorflow.keras.datasets import mnist\n",
    "from sklearn.model_selection import train_test_split\n",
    "\n",
    "(x_train_full, y_train_full), (x_test, y_test) = mnist.load_data(path='mnist.npz')\n",
    "\n",
    "x_train, x_val, y_train, y_val = train_test_split(x_train_full, y_train_full,\n",
    "                                                  test_size=0.3,\n",
    "                                                  random_state=123)\n",
    "\n",
    "print(f\"전체 학습 데이터: {x_train_full.shape}  레이블: {y_train_full.shape}\")\n",
    "print(f\"학습용 데이터: {x_train.shape}  레이블: {y_train.shape}\")\n",
    "print(f\"검증용 데이터: {x_val.shape}  레이블: {y_val.shape}\")\n",
    "print(f\"테스트용 데이터: {x_test.shape}  레이블: {y_test.shape}\")"
   ]
  },
  {
   "cell_type": "code",
   "execution_count": 3,
   "id": "beee946d",
   "metadata": {},
   "outputs": [
    {
     "data": {
      "image/png": "[encoded data removed]",
      "text/plain": [
       "<Figure size 1080x216 with 6 Axes>"
      ]
     },
     "metadata": {},
     "output_type": "display_data"
    }
   ],
   "source": [
    "import numpy as np\n",
    "import matplotlib.pyplot as plt\n",
    "plt.style.use(\"seaborn-white\")\n",
    "\n",
    "num_sample = 6\n",
    "random_idxs = np.random.randint(60000, size=num_sample)\n",
    "\n",
    "plt.figure(figsize=(15, 3))\n",
    "for i, idx in enumerate(random_idxs):\n",
    "    img = x_train_full[idx, :]\n",
    "    label = y_train_full[idx]\n",
    "\n",
    "    plt.subplot(1, len(random_idxs), i+1)\n",
    "    plt.axis('off')\n",
    "    plt.title(f'Index: {idx}, Label: {label}')\n",
    "    plt.imshow(img)"
   ]
  },
  {
   "cell_type": "code",
   "execution_count": 4,
   "id": "3c637e24",
   "metadata": {},
   "outputs": [
    {
     "name": "stdout",
     "output_type": "stream",
     "text": [
      "4\n"
     ]
    }
   ],
   "source": [
    "print(y_train[0])"
   ]
  },
  {
   "cell_type": "code",
   "execution_count": 5,
   "id": "ccbb943e",
   "metadata": {},
   "outputs": [
    {
     "data": {
      "text/plain": [
       "<matplotlib.image.AxesImage at 0x7fd4ca9a5880>"
      ]
     },
     "execution_count": 5,
     "metadata": {},
     "output_type": "execute_result"
    },
    {
     "data": {
      "image/png": "[encoded data removed]",
      "text/plain": [
       "<Figure size 432x288 with 1 Axes>"
      ]
     },
     "metadata": {},
     "output_type": "display_data"
    }
   ],
   "source": [
    "img = x_train[0, :]\n",
    "plt.axis('off')\n",
    "plt.imshow(img)"
   ]
  },
  {
   "cell_type": "code",
   "execution_count": 6,
   "id": "643ae07e",
   "metadata": {
    "scrolled": true
   },
   "outputs": [
    {
     "name": "stdout",
     "output_type": "stream",
     "text": [
      "[[  0   0   0   0   0   0   0   0   0   0   0   0   0   0   0   0   0   0\n",
      "    0   0   0   0   0   0   0   0   0   0]\n",
      " [  0   0   0   0   0   0   0   0   0   0   0   0   0   0   0   0   0   0\n",
      "    0   0   0   0   0   0   0   0   0   0]\n",
      " [  0   0   0   0   0   0   0   0   0   0   0   0   0   0   0   0   0   0\n",
      "    0   0   0   0   0   0   0   0   0   0]\n",
      " [  0   0   0   0   0   0   0   0   0   0   0   0   0   0   0   0   0   0\n",
      "    0   0   0   0   0   0   0   0   0   0]\n",
      " [  0   0   0   0   0   0   0   0   0   0   0   0   0   0   0   0 184 236\n",
      "    0   0   0   0   0   0   0   0   0   0]\n",
      " [  0   0   0   0   0   0   0   0   0   0   0   0   0   0   0  13 235 240\n",
      "   11   0   0   0   0   0   0   0   0   0]\n",
      " [  0   0   0   0   0   0   0   0   0   0   0   0   0   0   0  73 244 144\n",
      "   59   0   0   0   0   0   0   0   0   0]\n",
      " [  0   0   0   0   0   0   0   0   0   0   0   0   0   0   0 104 186   6\n",
      "   32   0   0   0   0   0   0   0   0   0]\n",
      " [  0   0   0   0   0   0   0   0   0  33  21   0   0   0   0 155 155   0\n",
      "    0   0   0   0   0   0   0   0   0   0]\n",
      " [  0   0   0   0   0   0   0   0   0 198  84   0   0   0   6 205 103   0\n",
      "    0   0   0   0   0   0   0   0   0   0]\n",
      " [  0   0   0   0   0   0   0   0  21 245  73   0   0   0  30 254 103   0\n",
      "    0   0   0   0   0   0   0   0   0   0]\n",
      " [  0   0   0   0   0   0   0   0  49 182   7   0   0   0  30 254 103   0\n",
      "    0   0   0   0   0   0   0   0   0   0]\n",
      " [  0   0   0   0   0   0   0   0  98 144   0   0   0   0  30 254  94   0\n",
      "    0   0   0   0   0   0   0   0   0   0]\n",
      " [  0   0   0   0   0   0   0   0  90 144   0   0   0   0  30 254  63   0\n",
      "    0   0   0   0   0   0   0   0   0   0]\n",
      " [  0   0   0   0   0   0   0   0 114 152   0   0   0   0  53 254 103   0\n",
      "    0   0   0   0   0   0   0   0   0   0]\n",
      " [  0   0   0   0   0   0   0   0  58 237  42   0   0   0  78 254  97   0\n",
      "    2  28   0   0   0   0   0   0   0   0]\n",
      " [  0   0   0   0   0   0   0   0  20 239 228 110  30  15 106 254 107  33\n",
      "  157  87   0   0   0   0   0   0   0   0]\n",
      " [  0   0   0   0   0   0   0   0   0 101 243 254 254 239 249 254 254 253\n",
      "  154   0   0   0   0   0   0   0   0   0]\n",
      " [  0   0   0   0   0   0   0   0   0   0  58 168 232 249 254 254 200  85\n",
      "    0   0   0   0   0   0   0   0   0   0]\n",
      " [  0   0   0   0   0   0   0   0   0   0   0   0   0  31 125 254  51   0\n",
      "    0   0   0   0   0   0   0   0   0   0]\n",
      " [  0   0   0   0   0   0   0   0   0   0   0   0   0   0  75 254  39   0\n",
      "    0   0   0   0   0   0   0   0   0   0]\n",
      " [  0   0   0   0   0   0   0   0   0   0   0   0   0   0  30 254  90   0\n",
      "    0   0   0   0   0   0   0   0   0   0]\n",
      " [  0   0   0   0   0   0   0   0   0   0   0   0   0   0  30 254 137   0\n",
      "    0   0   0   0   0   0   0   0   0   0]\n",
      " [  0   0   0   0   0   0   0   0   0   0   0   0   0   0  15 204 238  11\n",
      "    0   0   0   0   0   0   0   0   0   0]\n",
      " [  0   0   0   0   0   0   0   0   0   0   0   0   0   0   0   0   0   0\n",
      "    0   0   0   0   0   0   0   0   0   0]\n",
      " [  0   0   0   0   0   0   0   0   0   0   0   0   0   0   0   0   0   0\n",
      "    0   0   0   0   0   0   0   0   0   0]\n",
      " [  0   0   0   0   0   0   0   0   0   0   0   0   0   0   0   0   0   0\n",
      "    0   0   0   0   0   0   0   0   0   0]\n",
      " [  0   0   0   0   0   0   0   0   0   0   0   0   0   0   0   0   0   0\n",
      "    0   0   0   0   0   0   0   0   0   0]]\n"
     ]
    }
   ],
   "source": [
    "print(x_train[0])"
   ]
  },
  {
   "cell_type": "code",
   "execution_count": 7,
   "id": "526dd74b",
   "metadata": {},
   "outputs": [
    {
     "name": "stdout",
     "output_type": "stream",
     "text": [
      "[0. 0. 0. 0. 1. 0. 0. 0. 0. 0.]\n",
      "[0. 0. 0. 0. 1. 0. 0. 0. 0. 0.]\n",
      "[0. 0. 0. 0. 0. 0. 0. 1. 0. 0.]\n"
     ]
    }
   ],
   "source": [
    "x_train = x_train / 255.\n",
    "x_val = x_val / 255.\n",
    "x_test = x_test / 255.\n",
    "\n",
    "y_train = utils.to_categorical(y_train)\n",
    "y_val = utils.to_categorical(y_val)\n",
    "y_test = utils.to_categorical(y_test)\n",
    "\n",
    "print(y_train[0])\n",
    "print(y_val[0])\n",
    "print(y_test[0])"
   ]
  },
  {
   "cell_type": "markdown",
   "id": "cd499f56",
   "metadata": {},
   "source": [
    "#### 모델 구성"
   ]
  },
  {
   "cell_type": "code",
   "execution_count": 8,
   "id": "a08e12ab",
   "metadata": {},
   "outputs": [
    {
     "name": "stdout",
     "output_type": "stream",
     "text": [
      "Model: \"sequential\"\n",
      "_________________________________________________________________\n",
      "Layer (type)                 Output Shape              Param #   \n",
      "=================================================================\n",
      "flatten (Flatten)            (None, 784)               0         \n",
      "_________________________________________________________________\n",
      "dense1 (Dense)               (None, 100)               78500     \n",
      "_________________________________________________________________\n",
      "dense2 (Dense)               (None, 64)                6464      \n",
      "_________________________________________________________________\n",
      "dense3 (Dense)               (None, 32)                2080      \n",
      "_________________________________________________________________\n",
      "output (Dense)               (None, 10)                330       \n",
      "=================================================================\n",
      "Total params: 87,374\n",
      "Trainable params: 87,374\n",
      "Non-trainable params: 0\n",
      "_________________________________________________________________\n"
     ]
    }
   ],
   "source": [
    "model = models.Sequential()\n",
    "model.add(keras.Input(shape=(28, 28), name='input'))\n",
    "model.add(layers.Flatten(input_shape=[28, 28], name='flatten'))\n",
    "model.add(layers.Dense(100, activation='relu', name='dense1'))\n",
    "model.add(layers.Dense(64, activation='relu', name='dense2'))\n",
    "model.add(layers.Dense(32, activation='relu', name='dense3'))\n",
    "model.add(layers.Dense(10, activation='softmax', name='output'))\n",
    "model.summary()"
   ]
  },
  {
   "cell_type": "code",
   "execution_count": 9,
   "id": "5fbbd044",
   "metadata": {},
   "outputs": [
    {
     "data": {
      "image/png": "[encoded data removed]",
      "text/plain": [
       "<IPython.core.display.Image object>"
      ]
     },
     "execution_count": 9,
     "metadata": {},
     "output_type": "execute_result"
    }
   ],
   "source": [
    "utils.plot_model(model)"
   ]
  },
  {
   "cell_type": "code",
   "execution_count": 10,
   "id": "46ab0be7",
   "metadata": {},
   "outputs": [
    {
     "data": {
      "image/png": "[encoded data removed]",
      "text/plain": [
       "<IPython.core.display.Image object>"
      ]
     },
     "execution_count": 10,
     "metadata": {},
     "output_type": "execute_result"
    }
   ],
   "source": [
    "utils.plot_model(model, show_shapes=True)"
   ]
  },
  {
   "cell_type": "markdown",
   "id": "823d29c6",
   "metadata": {},
   "source": [
    "#### 모델 컴파일 및 학습"
   ]
  },
  {
   "cell_type": "code",
   "execution_count": 11,
   "id": "fb1524fd",
   "metadata": {},
   "outputs": [],
   "source": [
    "model.compile(loss='categorical_crossentropy',\n",
    "              optimizer='sgd',\n",
    "              metrics=['accuracy'])"
   ]
  },
  {
   "cell_type": "code",
   "execution_count": 12,
   "id": "78b4e230",
   "metadata": {},
   "outputs": [
    {
     "name": "stdout",
     "output_type": "stream",
     "text": [
      "Epoch 1/50\n",
      "329/329 [==============================] - 3s 4ms/step - loss: 1.9085 - accuracy: 0.4561 - val_loss: 1.1959 - val_accuracy: 0.7236\n",
      "Epoch 2/50\n",
      "329/329 [==============================] - 1s 3ms/step - loss: 0.7708 - accuracy: 0.8126 - val_loss: 0.5473 - val_accuracy: 0.8523\n",
      "Epoch 3/50\n",
      "329/329 [==============================] - 1s 3ms/step - loss: 0.4675 - accuracy: 0.8739 - val_loss: 0.4449 - val_accuracy: 0.8727\n",
      "Epoch 4/50\n",
      "329/329 [==============================] - 1s 3ms/step - loss: 0.3811 - accuracy: 0.8936 - val_loss: 0.3564 - val_accuracy: 0.8966\n",
      "Epoch 5/50\n",
      "329/329 [==============================] - 1s 3ms/step - loss: 0.3384 - accuracy: 0.9045 - val_loss: 0.3296 - val_accuracy: 0.9031\n",
      "Epoch 6/50\n",
      "329/329 [==============================] - 1s 3ms/step - loss: 0.3106 - accuracy: 0.9118 - val_loss: 0.3152 - val_accuracy: 0.9062\n",
      "Epoch 7/50\n",
      "329/329 [==============================] - 1s 3ms/step - loss: 0.2898 - accuracy: 0.9173 - val_loss: 0.2833 - val_accuracy: 0.9144\n",
      "Epoch 8/50\n",
      "329/329 [==============================] - 1s 3ms/step - loss: 0.2725 - accuracy: 0.9228 - val_loss: 0.2725 - val_accuracy: 0.9193\n",
      "Epoch 9/50\n",
      "329/329 [==============================] - 1s 3ms/step - loss: 0.2583 - accuracy: 0.9260 - val_loss: 0.2556 - val_accuracy: 0.9246\n",
      "Epoch 10/50\n",
      "329/329 [==============================] - 1s 3ms/step - loss: 0.2457 - accuracy: 0.9305 - val_loss: 0.2496 - val_accuracy: 0.9246\n",
      "Epoch 11/50\n",
      "329/329 [==============================] - 1s 3ms/step - loss: 0.2342 - accuracy: 0.9333 - val_loss: 0.2361 - val_accuracy: 0.9281\n",
      "Epoch 12/50\n",
      "329/329 [==============================] - 1s 3ms/step - loss: 0.2238 - accuracy: 0.9365 - val_loss: 0.2289 - val_accuracy: 0.9324\n",
      "Epoch 13/50\n",
      "329/329 [==============================] - 1s 3ms/step - loss: 0.2145 - accuracy: 0.9397 - val_loss: 0.2298 - val_accuracy: 0.9313\n",
      "Epoch 14/50\n",
      "329/329 [==============================] - 1s 3ms/step - loss: 0.2062 - accuracy: 0.9418 - val_loss: 0.2105 - val_accuracy: 0.9378\n",
      "Epoch 15/50\n",
      "329/329 [==============================] - 1s 3ms/step - loss: 0.1977 - accuracy: 0.9439 - val_loss: 0.2046 - val_accuracy: 0.9389\n",
      "Epoch 16/50\n",
      "329/329 [==============================] - 1s 3ms/step - loss: 0.1903 - accuracy: 0.9459 - val_loss: 0.1986 - val_accuracy: 0.9406\n",
      "Epoch 17/50\n",
      "329/329 [==============================] - 1s 3ms/step - loss: 0.1837 - accuracy: 0.9482 - val_loss: 0.2000 - val_accuracy: 0.9390\n",
      "Epoch 18/50\n",
      "329/329 [==============================] - 1s 3ms/step - loss: 0.1775 - accuracy: 0.9500 - val_loss: 0.1944 - val_accuracy: 0.9423\n",
      "Epoch 19/50\n",
      "329/329 [==============================] - 1s 3ms/step - loss: 0.1711 - accuracy: 0.9521 - val_loss: 0.1808 - val_accuracy: 0.9458\n",
      "Epoch 20/50\n",
      "329/329 [==============================] - 1s 3ms/step - loss: 0.1654 - accuracy: 0.9530 - val_loss: 0.1868 - val_accuracy: 0.9428\n",
      "Epoch 21/50\n",
      "329/329 [==============================] - 1s 3ms/step - loss: 0.1603 - accuracy: 0.9547 - val_loss: 0.1727 - val_accuracy: 0.9482\n",
      "Epoch 22/50\n",
      "329/329 [==============================] - 1s 3ms/step - loss: 0.1551 - accuracy: 0.9557 - val_loss: 0.1684 - val_accuracy: 0.9492\n",
      "Epoch 23/50\n",
      "329/329 [==============================] - 1s 3ms/step - loss: 0.1506 - accuracy: 0.9575 - val_loss: 0.1644 - val_accuracy: 0.9501\n",
      "Epoch 24/50\n",
      "329/329 [==============================] - 1s 3ms/step - loss: 0.1457 - accuracy: 0.9592 - val_loss: 0.1761 - val_accuracy: 0.9454\n",
      "Epoch 25/50\n",
      "329/329 [==============================] - 1s 3ms/step - loss: 0.1416 - accuracy: 0.9598 - val_loss: 0.1642 - val_accuracy: 0.9503\n",
      "Epoch 26/50\n",
      "329/329 [==============================] - 1s 3ms/step - loss: 0.1374 - accuracy: 0.9616 - val_loss: 0.1901 - val_accuracy: 0.9421\n",
      "Epoch 27/50\n",
      "329/329 [==============================] - 1s 3ms/step - loss: 0.1340 - accuracy: 0.9624 - val_loss: 0.1532 - val_accuracy: 0.9532\n",
      "Epoch 28/50\n",
      "329/329 [==============================] - 1s 3ms/step - loss: 0.1301 - accuracy: 0.9634 - val_loss: 0.1546 - val_accuracy: 0.9518\n",
      "Epoch 29/50\n",
      "329/329 [==============================] - 1s 3ms/step - loss: 0.1265 - accuracy: 0.9641 - val_loss: 0.1505 - val_accuracy: 0.9542\n",
      "Epoch 30/50\n",
      "329/329 [==============================] - 1s 3ms/step - loss: 0.1230 - accuracy: 0.9653 - val_loss: 0.1601 - val_accuracy: 0.9502\n",
      "Epoch 31/50\n",
      "329/329 [==============================] - 1s 3ms/step - loss: 0.1200 - accuracy: 0.9666 - val_loss: 0.1434 - val_accuracy: 0.9572\n",
      "Epoch 32/50\n",
      "329/329 [==============================] - 1s 3ms/step - loss: 0.1165 - accuracy: 0.9674 - val_loss: 0.1418 - val_accuracy: 0.9568\n",
      "Epoch 33/50\n",
      "329/329 [==============================] - 1s 3ms/step - loss: 0.1142 - accuracy: 0.9688 - val_loss: 0.1395 - val_accuracy: 0.9575\n",
      "Epoch 34/50\n",
      "329/329 [==============================] - 1s 3ms/step - loss: 0.1107 - accuracy: 0.9689 - val_loss: 0.1387 - val_accuracy: 0.9579\n",
      "Epoch 35/50\n",
      "329/329 [==============================] - 1s 3ms/step - loss: 0.1085 - accuracy: 0.9700 - val_loss: 0.1381 - val_accuracy: 0.9579\n",
      "Epoch 36/50\n",
      "329/329 [==============================] - 1s 3ms/step - loss: 0.1056 - accuracy: 0.9704 - val_loss: 0.1349 - val_accuracy: 0.9591\n",
      "Epoch 37/50\n",
      "329/329 [==============================] - 1s 3ms/step - loss: 0.1030 - accuracy: 0.9716 - val_loss: 0.1331 - val_accuracy: 0.9593\n",
      "Epoch 38/50\n",
      "329/329 [==============================] - 1s 3ms/step - loss: 0.1008 - accuracy: 0.9721 - val_loss: 0.1325 - val_accuracy: 0.9596\n",
      "Epoch 39/50\n",
      "329/329 [==============================] - 1s 3ms/step - loss: 0.0982 - accuracy: 0.9726 - val_loss: 0.1293 - val_accuracy: 0.9611\n",
      "Epoch 40/50\n",
      "329/329 [==============================] - 1s 3ms/step - loss: 0.0959 - accuracy: 0.9727 - val_loss: 0.1293 - val_accuracy: 0.9603\n",
      "Epoch 41/50\n",
      "329/329 [==============================] - 1s 3ms/step - loss: 0.0939 - accuracy: 0.9735 - val_loss: 0.1287 - val_accuracy: 0.9614\n",
      "Epoch 42/50\n",
      "329/329 [==============================] - 1s 3ms/step - loss: 0.0915 - accuracy: 0.9751 - val_loss: 0.1301 - val_accuracy: 0.9600\n",
      "Epoch 43/50\n",
      "329/329 [==============================] - 1s 3ms/step - loss: 0.0895 - accuracy: 0.9748 - val_loss: 0.1234 - val_accuracy: 0.9633\n",
      "Epoch 44/50\n",
      "329/329 [==============================] - 1s 3ms/step - loss: 0.0872 - accuracy: 0.9757 - val_loss: 0.1264 - val_accuracy: 0.9617\n",
      "Epoch 45/50\n",
      "329/329 [==============================] - 1s 3ms/step - loss: 0.0852 - accuracy: 0.9764 - val_loss: 0.1223 - val_accuracy: 0.9636\n",
      "Epoch 46/50\n",
      "329/329 [==============================] - 1s 3ms/step - loss: 0.0835 - accuracy: 0.9766 - val_loss: 0.1271 - val_accuracy: 0.9609\n",
      "Epoch 47/50\n",
      "329/329 [==============================] - 1s 3ms/step - loss: 0.0816 - accuracy: 0.9777 - val_loss: 0.1228 - val_accuracy: 0.9628\n",
      "Epoch 48/50\n",
      "329/329 [==============================] - 1s 3ms/step - loss: 0.0799 - accuracy: 0.9775 - val_loss: 0.1206 - val_accuracy: 0.9639\n",
      "Epoch 49/50\n",
      "329/329 [==============================] - 1s 3ms/step - loss: 0.0782 - accuracy: 0.9785 - val_loss: 0.1191 - val_accuracy: 0.9639\n",
      "Epoch 50/50\n",
      "329/329 [==============================] - 1s 3ms/step - loss: 0.0764 - accuracy: 0.9792 - val_loss: 0.1492 - val_accuracy: 0.9536\n"
     ]
    }
   ],
   "source": [
    "history = model.fit(x_train, y_train,\n",
    "                    epochs=50,\n",
    "                    batch_size=128,\n",
    "                    validation_data=(x_val, y_val))"
   ]
  },
  {
   "cell_type": "code",
   "execution_count": 13,
   "id": "2cecf412",
   "metadata": {},
   "outputs": [
    {
     "data": {
      "text/plain": [
       "dict_keys(['loss', 'accuracy', 'val_loss', 'val_accuracy'])"
      ]
     },
     "execution_count": 13,
     "metadata": {},
     "output_type": "execute_result"
    }
   ],
   "source": [
    "history.history.keys()"
   ]
  },
  {
   "cell_type": "code",
   "execution_count": 14,
   "id": "cc7460a1",
   "metadata": {},
   "outputs": [
    {
     "data": {
      "image/png": "[encoded data removed]",
      "text/plain": [
       "<Figure size 864x360 with 2 Axes>"
      ]
     },
     "metadata": {},
     "output_type": "display_data"
    }
   ],
   "source": [
    "history_dict = history.history\n",
    "\n",
    "loss = history_dict['loss']\n",
    "val_loss = history_dict['val_loss']\n",
    "\n",
    "epochs = range(1, len(loss) + 1)\n",
    "fig = plt.figure(figsize=(12, 5))\n",
    "\n",
    "ax1 = fig.add_subplot(1, 2, 1)\n",
    "ax1.plot(epochs, loss, color='blue', label='train_loss')\n",
    "ax1.plot(epochs, val_loss, color='red', label='val_loss')\n",
    "ax1.set_title('Train and Validation Loss')\n",
    "ax1.set_xlabel('Epochs')\n",
    "ax1.set_ylabel('Loss')\n",
    "ax1.grid()\n",
    "ax1.legend()\n",
    "\n",
    "accuracy = history_dict['accuracy']\n",
    "val_accuracy = history_dict['val_accuracy']\n",
    "\n",
    "ax2 = fig.add_subplot(1, 2, 2)\n",
    "ax2.plot(epochs, accuracy, color='blue', label='train_accuracy')\n",
    "ax2.plot(epochs, val_accuracy, color='red', label='val_accuracy')\n",
    "ax2.set_title('Train and Validation Accuracy')\n",
    "ax2.set_xlabel('Epochs')\n",
    "ax2.set_ylabel('Accuracy')\n",
    "ax2.grid()\n",
    "ax2.legend()\n",
    "\n",
    "plt.show()"
   ]
  },
  {
   "cell_type": "markdown",
   "id": "64021f92",
   "metadata": {},
   "source": [
    "#### 모델 평가 및 예측"
   ]
  },
  {
   "cell_type": "code",
   "execution_count": 15,
   "id": "2f18ccee",
   "metadata": {},
   "outputs": [
    {
     "name": "stdout",
     "output_type": "stream",
     "text": [
      "313/313 [==============================] - 1s 2ms/step - loss: 0.1411 - accuracy: 0.9545\n"
     ]
    },
    {
     "data": {
      "text/plain": [
       "[0.14106500148773193, 0.9545000195503235]"
      ]
     },
     "execution_count": 15,
     "metadata": {},
     "output_type": "execute_result"
    }
   ],
   "source": [
    "model.evaluate(x_test, y_test)"
   ]
  },
  {
   "cell_type": "code",
   "execution_count": 16,
   "id": "86aadbb9",
   "metadata": {},
   "outputs": [
    {
     "name": "stdout",
     "output_type": "stream",
     "text": [
      "(10000, 10)\n",
      "[7.3400912e-07 1.2979312e-06 1.7338930e-04 1.7455217e-04 9.3217528e-07\n",
      " 2.3591247e-06 5.3693089e-10 9.9958628e-01 3.0591038e-06 5.7357298e-05]\n"
     ]
    }
   ],
   "source": [
    "pred_ys = model.predict(x_test)\n",
    "print(pred_ys.shape)\n",
    "print(pred_ys[0])"
   ]
  },
  {
   "cell_type": "code",
   "execution_count": 17,
   "id": "e979b19d",
   "metadata": {},
   "outputs": [
    {
     "data": {
      "image/png": "[encoded data removed]",
      "text/plain": [
       "<Figure size 432x288 with 1 Axes>"
      ]
     },
     "metadata": {},
     "output_type": "display_data"
    }
   ],
   "source": [
    "arg_pred_y = np.argmax(pred_ys, axis=1)\n",
    "\n",
    "plt.title(f'Predicted label: {arg_pred_y[0]}')\n",
    "plt.imshow(x_test[0])\n",
    "plt.show()"
   ]
  },
  {
   "cell_type": "code",
   "execution_count": 18,
   "id": "1a2f9e41",
   "metadata": {},
   "outputs": [
    {
     "name": "stdout",
     "output_type": "stream",
     "text": [
      "              precision    recall  f1-score   support\n",
      "\n",
      "           0       0.97      0.97      0.97       980\n",
      "           1       0.98      0.99      0.98      1135\n",
      "           2       0.99      0.91      0.95      1032\n",
      "           3       0.93      0.96      0.95      1010\n",
      "           4       0.97      0.91      0.94       982\n",
      "           5       0.96      0.96      0.96       892\n",
      "           6       0.97      0.97      0.97       958\n",
      "           7       0.97      0.94      0.96      1028\n",
      "           8       0.95      0.96      0.95       974\n",
      "           9       0.87      0.98      0.92      1009\n",
      "\n",
      "    accuracy                           0.95     10000\n",
      "   macro avg       0.96      0.95      0.95     10000\n",
      "weighted avg       0.96      0.95      0.95     10000\n",
      "\n"
     ]
    }
   ],
   "source": [
    "from sklearn.metrics import classification_report\n",
    "\n",
    "print(classification_report(np.argmax(y_test, axis=-1), np.argmax(pred_ys, axis=-1)))"
   ]
  },
  {
   "cell_type": "code",
   "execution_count": 19,
   "id": "766cdd4b",
   "metadata": {},
   "outputs": [
    {
     "data": {
      "image/png": "[encoded data removed]",
      "text/plain": [
       "<Figure size 576x576 with 2 Axes>"
      ]
     },
     "metadata": {},
     "output_type": "display_data"
    }
   ],
   "source": [
    "from sklearn.metrics import confusion_matrix\n",
    "import seaborn as sns\n",
    "sns.set(style='white')\n",
    "\n",
    "plt.figure(figsize=(8, 8))\n",
    "cm = confusion_matrix(np.argmax(y_test, axis=1), np.argmax(pred_ys, axis=-1))\n",
    "sns.heatmap(cm, annot=True, fmt='d', cmap='Blues')\n",
    "plt.xlabel('Predicted Label')\n",
    "plt.ylabel('True Label')\n",
    "plt.show()"
   ]
  },
  {
   "cell_type": "markdown",
   "id": "0613ad13",
   "metadata": {},
   "source": [
    "## 5-3 모델 저장과 로드\n",
    "\n",
    "- 모델을 열심히 학습시키고 저장을 안한다면 다시 처음부터 학습해야함.\n",
    "- save()함수 사용,\n",
    "- Subclassing API 방식은 save_weights()와 load_weights를 이용해 모델의 파라미터만 저장 및 로드하는 것이 가능"
   ]
  },
  {
   "cell_type": "code",
   "execution_count": 20,
   "id": "31c8f213",
   "metadata": {},
   "outputs": [],
   "source": [
    "model.save('mnist_model.h5')"
   ]
  },
  {
   "cell_type": "code",
   "execution_count": 21,
   "id": "e957072e",
   "metadata": {},
   "outputs": [
    {
     "name": "stdout",
     "output_type": "stream",
     "text": [
      "Model: \"sequential\"\n",
      "_________________________________________________________________\n",
      "Layer (type)                 Output Shape              Param #   \n",
      "=================================================================\n",
      "flatten (Flatten)            (None, 784)               0         \n",
      "_________________________________________________________________\n",
      "dense1 (Dense)               (None, 100)               78500     \n",
      "_________________________________________________________________\n",
      "dense2 (Dense)               (None, 64)                6464      \n",
      "_________________________________________________________________\n",
      "dense3 (Dense)               (None, 32)                2080      \n",
      "_________________________________________________________________\n",
      "output (Dense)               (None, 10)                330       \n",
      "=================================================================\n",
      "Total params: 87,374\n",
      "Trainable params: 87,374\n",
      "Non-trainable params: 0\n",
      "_________________________________________________________________\n"
     ]
    }
   ],
   "source": [
    "loaded_model = models.load_model('mnist_model.h5')\n",
    "loaded_model.summary()"
   ]
  },
  {
   "cell_type": "code",
   "execution_count": 22,
   "id": "02804d25",
   "metadata": {},
   "outputs": [
    {
     "name": "stdout",
     "output_type": "stream",
     "text": [
      "(10000, 10)\n",
      "[7.3400912e-07 1.2979312e-06 1.7338930e-04 1.7455217e-04 9.3217528e-07\n",
      " 2.3591247e-06 5.3693089e-10 9.9958628e-01 3.0591038e-06 5.7357298e-05]\n"
     ]
    }
   ],
   "source": [
    "pred_ys2 = loaded_model.predict(x_test)\n",
    "print(pred_ys2.shape)\n",
    "print(pred_ys2[0])"
   ]
  },
  {
   "cell_type": "code",
   "execution_count": 23,
   "id": "730d04a2",
   "metadata": {},
   "outputs": [
    {
     "data": {
      "image/png": "[encoded data removed]",
      "text/plain": [
       "<Figure size 432x288 with 1 Axes>"
      ]
     },
     "metadata": {},
     "output_type": "display_data"
    }
   ],
   "source": [
    "#예측값 시각화하기\n",
    "arg_pred_y2 = np.argmax(pred_ys2, axis=1)\n",
    "\n",
    "#matlotlib를 이용해서 시각화하기\n",
    "plt.title(f'Predicted label: {arg_pred_y2[0]}')\n",
    "plt.imshow(x_test[0])\n",
    "plt.show()"
   ]
  },
  {
   "cell_type": "code",
   "execution_count": 24,
   "id": "bbaa1fe7",
   "metadata": {},
   "outputs": [
    {
     "name": "stdout",
     "output_type": "stream",
     "text": [
      "(10000, 10)\n",
      "[0.08527168 0.10192844 0.09350654 0.10546763 0.1059243  0.08409242\n",
      " 0.11171969 0.09419946 0.10984881 0.10804096]\n"
     ]
    }
   ],
   "source": [
    "# 위에서 학습시킨 model의 구조를 json 형식으로 model_json에 저장합니다.\n",
    "model_json = model.to_json()\n",
    "\n",
    "# json으로 저장한 모델을 읽어옵니다.\n",
    "loaded_model = keras.models.model_from_json(model_json)\n",
    "\n",
    "predictions = loaded_model.predict(x_test)\n",
    "print(predictions.shape)\n",
    "print(predictions[0])"
   ]
  },
  {
   "cell_type": "markdown",
   "id": "b5214f26",
   "metadata": {},
   "source": [
    "## 5-4 Callbacks\n",
    "모델을 fit()함수를 통해 학습시키는 동안 'callbacks' 매개변수를 사용하여 학습 시작이나 끝에 호출할 객체 리스트를 여러개 지정 가능\n",
    "\n",
    "1. ModelCheckpoint\n",
    "    - tf.keras.callbacks.ModelCheckpoint: 정기적으로 모데르이 체크포인트를 저장하고 문제가 발생할때 복구하는데 사용\n",
    "2. EarlyStopping\n",
    "    - tf.kears.callbacks.EarlyStopping\n",
    "    - 'patience'동안 검증 세트에 대한 점수가 오르지 않으면 학습을 멈추게 됨\n",
    "3. LearningRateScheduler\n",
    "4. Tensorboard"
   ]
  },
  {
   "cell_type": "code",
   "execution_count": 26,
   "id": "dd4cbfc5",
   "metadata": {},
   "outputs": [],
   "source": [
    "from tensorflow.keras import callbacks"
   ]
  },
  {
   "cell_type": "markdown",
   "id": "5d986655",
   "metadata": {},
   "source": [
    "#### ModelCheckpoint"
   ]
  },
  {
   "cell_type": "code",
   "execution_count": 27,
   "id": "355c1f82",
   "metadata": {},
   "outputs": [
    {
     "name": "stdout",
     "output_type": "stream",
     "text": [
      "Epoch 1/10\n",
      "1313/1313 [==============================] - 3s 3ms/step - loss: 0.0837 - accuracy: 0.9753\n",
      "Epoch 2/10\n",
      "1313/1313 [==============================] - 4s 3ms/step - loss: 0.0764 - accuracy: 0.9782\n",
      "Epoch 3/10\n",
      "1313/1313 [==============================] - 4s 3ms/step - loss: 0.0714 - accuracy: 0.9797\n",
      "Epoch 4/10\n",
      "1313/1313 [==============================] - 4s 3ms/step - loss: 0.0659 - accuracy: 0.9810\n",
      "Epoch 5/10\n",
      "1313/1313 [==============================] - 4s 3ms/step - loss: 0.0610 - accuracy: 0.9827\n",
      "Epoch 6/10\n",
      "1313/1313 [==============================] - 4s 3ms/step - loss: 0.0569 - accuracy: 0.9844\n",
      "Epoch 7/10\n",
      "1313/1313 [==============================] - 4s 3ms/step - loss: 0.0524 - accuracy: 0.9853\n",
      "Epoch 8/10\n",
      "1313/1313 [==============================] - 4s 3ms/step - loss: 0.0491 - accuracy: 0.9862\n",
      "Epoch 9/10\n",
      "1313/1313 [==============================] - 4s 3ms/step - loss: 0.0454 - accuracy: 0.9875\n",
      "Epoch 10/10\n",
      "1313/1313 [==============================] - 4s 3ms/step - loss: 0.0419 - accuracy: 0.9885\n"
     ]
    }
   ],
   "source": [
    "check_point_cb = callbacks.ModelCheckpoint('keras_mnist_model.h5')\n",
    "history = model.fit(x_train, y_train, epochs=10,\n",
    "                    callbacks=[check_point_cb])"
   ]
  },
  {
   "cell_type": "code",
   "execution_count": 28,
   "id": "a48d906d",
   "metadata": {},
   "outputs": [
    {
     "name": "stdout",
     "output_type": "stream",
     "text": [
      "Epoch 1/10\n",
      "1313/1313 [==============================] - 5s 4ms/step - loss: 0.0397 - accuracy: 0.9886 - val_loss: 0.1115 - val_accuracy: 0.9681\n",
      "Epoch 2/10\n",
      "1313/1313 [==============================] - 4s 3ms/step - loss: 0.0359 - accuracy: 0.9903 - val_loss: 0.1038 - val_accuracy: 0.9701\n",
      "Epoch 3/10\n",
      "1313/1313 [==============================] - 5s 4ms/step - loss: 0.0337 - accuracy: 0.9913 - val_loss: 0.1086 - val_accuracy: 0.9686\n",
      "Epoch 4/10\n",
      "1313/1313 [==============================] - 5s 4ms/step - loss: 0.0317 - accuracy: 0.9914 - val_loss: 0.1116 - val_accuracy: 0.9688\n",
      "Epoch 5/10\n",
      "1313/1313 [==============================] - 5s 4ms/step - loss: 0.0291 - accuracy: 0.9924 - val_loss: 0.1039 - val_accuracy: 0.9701\n",
      "Epoch 6/10\n",
      "1313/1313 [==============================] - 5s 4ms/step - loss: 0.0273 - accuracy: 0.9931 - val_loss: 0.1130 - val_accuracy: 0.9682\n",
      "Epoch 7/10\n",
      "1313/1313 [==============================] - 5s 4ms/step - loss: 0.0250 - accuracy: 0.9938 - val_loss: 0.1095 - val_accuracy: 0.9695\n",
      "Epoch 8/10\n",
      "1313/1313 [==============================] - 5s 4ms/step - loss: 0.0230 - accuracy: 0.9948 - val_loss: 0.1076 - val_accuracy: 0.9706\n",
      "Epoch 9/10\n",
      "1313/1313 [==============================] - 5s 4ms/step - loss: 0.0215 - accuracy: 0.9952 - val_loss: 0.1097 - val_accuracy: 0.9697\n",
      "Epoch 10/10\n",
      "1313/1313 [==============================] - 5s 4ms/step - loss: 0.0197 - accuracy: 0.9954 - val_loss: 0.1051 - val_accuracy: 0.9717\n"
     ]
    }
   ],
   "source": [
    "check_point_cb = callbacks.ModelCheckpoint('keras_mnist_model.h5', save_best_only=True)\n",
    "history = model.fit(x_train, y_train, epochs=10,\n",
    "                    validation_data=(x_val, y_val),\n",
    "                    callbacks=[check_point_cb])"
   ]
  },
  {
   "cell_type": "markdown",
   "id": "3ced1bf2",
   "metadata": {},
   "source": [
    "#### EarlyStopping"
   ]
  },
  {
   "cell_type": "code",
   "execution_count": 29,
   "id": "3c8d5c4f",
   "metadata": {},
   "outputs": [
    {
     "name": "stdout",
     "output_type": "stream",
     "text": [
      "Epoch 1/10\n",
      "1313/1313 [==============================] - 5s 4ms/step - loss: 0.0183 - accuracy: 0.9959 - val_loss: 0.1122 - val_accuracy: 0.9699\n",
      "Epoch 2/10\n",
      "1313/1313 [==============================] - 4s 3ms/step - loss: 0.0165 - accuracy: 0.9967 - val_loss: 0.1069 - val_accuracy: 0.9717\n",
      "Epoch 3/10\n",
      "1313/1313 [==============================] - 4s 3ms/step - loss: 0.0157 - accuracy: 0.9968 - val_loss: 0.1093 - val_accuracy: 0.9708\n",
      "Epoch 4/10\n",
      "1313/1313 [==============================] - 4s 3ms/step - loss: 0.0144 - accuracy: 0.9974 - val_loss: 0.1092 - val_accuracy: 0.9709\n",
      "Epoch 5/10\n",
      "1313/1313 [==============================] - 4s 3ms/step - loss: 0.0132 - accuracy: 0.9977 - val_loss: 0.1072 - val_accuracy: 0.9717\n"
     ]
    }
   ],
   "source": [
    "check_point_cb = callbacks.ModelCheckpoint('keras_mnist_model.h5', save_best_only=True)\n",
    "early_stopping_cb = callbacks.EarlyStopping(patience=3, monitor='val_loss',\n",
    "                                  restore_best_weights=True)\n",
    "history = model.fit(x_train, y_train, epochs=10,\n",
    "                    validation_data=(x_val, y_val),\n",
    "                    callbacks=[check_point_cb, early_stopping_cb])"
   ]
  },
  {
   "cell_type": "markdown",
   "id": "5c2cda1e",
   "metadata": {},
   "source": [
    "#### LearningRateScheduler"
   ]
  },
  {
   "cell_type": "code",
   "execution_count": 30,
   "id": "38da68c2",
   "metadata": {},
   "outputs": [],
   "source": [
    "def scheduler(epoch, learning_rate):\n",
    "    if epoch < 10:\n",
    "        return learning_rate\n",
    "    else:\n",
    "        return learning_rate * tf.math.exp(-0.1)"
   ]
  },
  {
   "cell_type": "code",
   "execution_count": 31,
   "id": "7aaf884a",
   "metadata": {},
   "outputs": [
    {
     "data": {
      "text/plain": [
       "0.01"
      ]
     },
     "execution_count": 31,
     "metadata": {},
     "output_type": "execute_result"
    }
   ],
   "source": [
    "round(model.optimizer.lr.numpy(), 5)"
   ]
  },
  {
   "cell_type": "code",
   "execution_count": 32,
   "id": "13a01691",
   "metadata": {},
   "outputs": [
    {
     "data": {
      "text/plain": [
       "0.00607"
      ]
     },
     "execution_count": 32,
     "metadata": {},
     "output_type": "execute_result"
    }
   ],
   "source": [
    "lr_scheduler_cb = callbacks.LearningRateScheduler(scheduler)\n",
    "\n",
    "history = model.fit(x_train, y_train, epochs=15,\n",
    "                    callbacks=[lr_scheduler_cb], verbose=0)\n",
    "\n",
    "round(model.optimizer.lr.numpy(), 5)"
   ]
  },
  {
   "cell_type": "markdown",
   "id": "e7ad739f",
   "metadata": {},
   "source": [
    "#### Tensorboard"
   ]
  },
  {
   "cell_type": "code",
   "execution_count": 33,
   "id": "a9e8b25b",
   "metadata": {},
   "outputs": [
    {
     "name": "stdout",
     "output_type": "stream",
     "text": [
      "Epoch 1/30\n",
      "1313/1313 [==============================] - 7s 5ms/step - loss: 0.0049 - accuracy: 0.9998 - val_loss: 0.1175 - val_accuracy: 0.9724\n",
      "Epoch 2/30\n",
      "1313/1313 [==============================] - 5s 4ms/step - loss: 0.0046 - accuracy: 0.9999 - val_loss: 0.1177 - val_accuracy: 0.9721\n",
      "Epoch 3/30\n",
      "1313/1313 [==============================] - 5s 4ms/step - loss: 0.0045 - accuracy: 0.9999 - val_loss: 0.1188 - val_accuracy: 0.9722\n",
      "Epoch 4/30\n",
      "1313/1313 [==============================] - 5s 4ms/step - loss: 0.0043 - accuracy: 0.9999 - val_loss: 0.1195 - val_accuracy: 0.9722\n",
      "Epoch 5/30\n",
      "1313/1313 [==============================] - 4s 3ms/step - loss: 0.0041 - accuracy: 0.9999 - val_loss: 0.1198 - val_accuracy: 0.9723\n",
      "Epoch 6/30\n",
      "1313/1313 [==============================] - 4s 3ms/step - loss: 0.0040 - accuracy: 0.9999 - val_loss: 0.1197 - val_accuracy: 0.9719\n",
      "Epoch 7/30\n",
      "1313/1313 [==============================] - 5s 4ms/step - loss: 0.0039 - accuracy: 0.9999 - val_loss: 0.1195 - val_accuracy: 0.9723\n",
      "Epoch 8/30\n",
      "1313/1313 [==============================] - 5s 4ms/step - loss: 0.0037 - accuracy: 0.9999 - val_loss: 0.1218 - val_accuracy: 0.9722\n",
      "Epoch 9/30\n",
      "1313/1313 [==============================] - 5s 4ms/step - loss: 0.0036 - accuracy: 0.9999 - val_loss: 0.1202 - val_accuracy: 0.9728\n",
      "Epoch 10/30\n",
      "1313/1313 [==============================] - 5s 4ms/step - loss: 0.0036 - accuracy: 0.9999 - val_loss: 0.1216 - val_accuracy: 0.9722\n",
      "Epoch 11/30\n",
      "1313/1313 [==============================] - 5s 4ms/step - loss: 0.0034 - accuracy: 0.9999 - val_loss: 0.1207 - val_accuracy: 0.9727\n",
      "Epoch 12/30\n",
      "1313/1313 [==============================] - 5s 4ms/step - loss: 0.0033 - accuracy: 1.0000 - val_loss: 0.1228 - val_accuracy: 0.9728\n",
      "Epoch 13/30\n",
      "1313/1313 [==============================] - 5s 4ms/step - loss: 0.0032 - accuracy: 1.0000 - val_loss: 0.1229 - val_accuracy: 0.9724\n",
      "Epoch 14/30\n",
      "1313/1313 [==============================] - 5s 4ms/step - loss: 0.0031 - accuracy: 1.0000 - val_loss: 0.1237 - val_accuracy: 0.9727\n",
      "Epoch 15/30\n",
      "1313/1313 [==============================] - 5s 4ms/step - loss: 0.0030 - accuracy: 1.0000 - val_loss: 0.1223 - val_accuracy: 0.9729\n",
      "Epoch 16/30\n",
      "1313/1313 [==============================] - 4s 3ms/step - loss: 0.0029 - accuracy: 1.0000 - val_loss: 0.1227 - val_accuracy: 0.9725\n",
      "Epoch 17/30\n",
      "1313/1313 [==============================] - 4s 3ms/step - loss: 0.0029 - accuracy: 1.0000 - val_loss: 0.1238 - val_accuracy: 0.9729\n",
      "Epoch 18/30\n",
      "1313/1313 [==============================] - 4s 3ms/step - loss: 0.0028 - accuracy: 1.0000 - val_loss: 0.1237 - val_accuracy: 0.9729\n",
      "Epoch 19/30\n",
      "1313/1313 [==============================] - 4s 3ms/step - loss: 0.0027 - accuracy: 1.0000 - val_loss: 0.1240 - val_accuracy: 0.9723\n",
      "Epoch 20/30\n",
      "1313/1313 [==============================] - 4s 3ms/step - loss: 0.0026 - accuracy: 1.0000 - val_loss: 0.1255 - val_accuracy: 0.9726\n",
      "Epoch 21/30\n",
      "1313/1313 [==============================] - 4s 3ms/step - loss: 0.0026 - accuracy: 1.0000 - val_loss: 0.1258 - val_accuracy: 0.9725\n",
      "Epoch 22/30\n",
      "1313/1313 [==============================] - 4s 3ms/step - loss: 0.0025 - accuracy: 1.0000 - val_loss: 0.1250 - val_accuracy: 0.9728\n",
      "Epoch 23/30\n",
      "1313/1313 [==============================] - 4s 3ms/step - loss: 0.0025 - accuracy: 1.0000 - val_loss: 0.1262 - val_accuracy: 0.9722\n",
      "Epoch 24/30\n",
      "1313/1313 [==============================] - 4s 3ms/step - loss: 0.0024 - accuracy: 1.0000 - val_loss: 0.1266 - val_accuracy: 0.9726\n",
      "Epoch 25/30\n",
      "1313/1313 [==============================] - 4s 3ms/step - loss: 0.0023 - accuracy: 1.0000 - val_loss: 0.1264 - val_accuracy: 0.9729\n",
      "Epoch 26/30\n",
      "1313/1313 [==============================] - 4s 3ms/step - loss: 0.0023 - accuracy: 1.0000 - val_loss: 0.1269 - val_accuracy: 0.9729\n",
      "Epoch 27/30\n",
      "1313/1313 [==============================] - 4s 3ms/step - loss: 0.0022 - accuracy: 1.0000 - val_loss: 0.1267 - val_accuracy: 0.9728\n",
      "Epoch 28/30\n",
      "1313/1313 [==============================] - 4s 3ms/step - loss: 0.0022 - accuracy: 1.0000 - val_loss: 0.1264 - val_accuracy: 0.9728\n",
      "Epoch 29/30\n",
      "1313/1313 [==============================] - 4s 3ms/step - loss: 0.0021 - accuracy: 1.0000 - val_loss: 0.1283 - val_accuracy: 0.9727\n",
      "Epoch 30/30\n",
      "1313/1313 [==============================] - 4s 3ms/step - loss: 0.0021 - accuracy: 1.0000 - val_loss: 0.1285 - val_accuracy: 0.9726\n"
     ]
    },
    {
     "data": {
      "text/plain": [
       "<keras.callbacks.History at 0x7fd4dd7a75b0>"
      ]
     },
     "execution_count": 33,
     "metadata": {},
     "output_type": "execute_result"
    }
   ],
   "source": [
    "log_dir = './logs'\n",
    "tensor_board_cb = [callbacks.TensorBoard(log_dir=log_dir, histogram_freq=1, write_graph=True, write_images=True)]\n",
    "model.fit(x_train, y_train, batch_size=32, validation_data=(x_val, y_val),\n",
    "          epochs=30, callbacks=tensor_board_cb)"
   ]
  },
  {
   "cell_type": "code",
   "execution_count": 34,
   "id": "b25449f0",
   "metadata": {},
   "outputs": [
    {
     "data": {
      "text/html": [
       "\n",
       "      <iframe id=\"tensorboard-frame-c9fb18de4bcd3828\" width=\"100%\" height=\"800\" frameborder=\"0\">\n",
       "      </iframe>\n",
       "      <script>\n",
       "        (function() {\n",
       "          const frame = document.getElementById(\"tensorboard-frame-c9fb18de4bcd3828\");\n",
       "          const url = new URL(\"/\", window.location);\n",
       "          const port = 6006;\n",
       "          if (port) {\n",
       "            url.port = port;\n",
       "          }\n",
       "          frame.src = url;\n",
       "        })();\n",
       "      </script>\n",
       "    "
      ],
      "text/plain": [
       "<IPython.core.display.HTML object>"
      ]
     },
     "metadata": {},
     "output_type": "display_data"
    }
   ],
   "source": [
    "%load_ext tensorboard\n",
    "%tensorboard --logdir {log_dir}"
   ]
  },
  {
   "cell_type": "markdown",
   "id": "b772e3a5",
   "metadata": {},
   "source": [
    "## 5-5 마무리하며\n",
    "\n",
    "- model.save('model.h5')\n",
    "- model.to_json()\n",
    "- model.to_yaml()"
   ]
  },
  {
   "cell_type": "code",
   "execution_count": 35,
   "id": "7d1ff98c",
   "metadata": {},
   "outputs": [
    {
     "name": "stdout",
     "output_type": "stream",
     "text": [
      "Epoch 1/10\n",
      "1313/1313 [==============================] - 4s 3ms/step - loss: 0.0020 - accuracy: 1.0000 - val_loss: 0.1280 - val_accuracy: 0.9732\n",
      "Epoch 2/10\n",
      "1313/1313 [==============================] - 4s 3ms/step - loss: 0.0020 - accuracy: 1.0000 - val_loss: 0.1287 - val_accuracy: 0.9732\n",
      "Epoch 3/10\n",
      "1313/1313 [==============================] - 4s 3ms/step - loss: 0.0019 - accuracy: 1.0000 - val_loss: 0.1288 - val_accuracy: 0.9729\n",
      "Epoch 4/10\n",
      "1313/1313 [==============================] - 4s 3ms/step - loss: 0.0019 - accuracy: 1.0000 - val_loss: 0.1288 - val_accuracy: 0.9727\n"
     ]
    }
   ],
   "source": [
    "# 기존에 사용했던 mnist의 데이터들을 활용해서 모델에 checkpoint를 만들고 Earlystopping을 설정해주세요.\n",
    "\n",
    "check_point_cb = callbacks.ModelCheckpoint('keras_mnist_model.h5', save_best_only=True)\n",
    "early_stopping_cb = callbacks.EarlyStopping(patience=3, monitor='val_loss',\n",
    "                                  restore_best_weights=True)\n",
    "\n",
    "history = model.fit(x_train, y_train, epochs=10,\n",
    "                    validation_data=(x_val, y_val),\n",
    "                    callbacks=[check_point_cb, early_stopping_cb])"
   ]
  }
 ],
 "metadata": {
  "kernelspec": {
   "display_name": "Python 3 (ipykernel)",
   "language": "python",
   "name": "python3"
  },
  "language_info": {
   "codemirror_mode": {
    "name": "ipython",
    "version": 3
   },
   "file_extension": ".py",
   "mimetype": "text/x-python",
   "name": "python",
   "nbconvert_exporter": "python",
   "pygments_lexer": "ipython3",
   "version": "3.9.7"
  }
 },
 "nbformat": 4,
 "nbformat_minor": 5
}
