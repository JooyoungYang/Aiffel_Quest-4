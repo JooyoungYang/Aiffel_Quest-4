{
 "cells": [
  {
   "cell_type": "code",
   "execution_count": null,
   "metadata": {
    "id": "icESpS8RL_VK"
   },
   "outputs": [],
   "source": [
    "!pip install datasets\n",
    "!pip install huggingface_hub"
   ]
  },
  {
   "cell_type": "code",
   "execution_count": null,
   "metadata": {
    "id": "eIefuHRkMFwY"
   },
   "outputs": [],
   "source": [
    "import datasets\n",
    "from datasets import load_dataset\n",
    "import numpy as np\n",
    "import cv2"
   ]
  },
  {
   "cell_type": "code",
   "execution_count": null,
   "metadata": {
    "id": "Y01m3GIcMJvi"
   },
   "outputs": [],
   "source": [
    "dataset = load_dataset(\"nateraw/pascal-voc-2012\",split= 'train')"
   ]
  },
  {
   "cell_type": "code",
   "execution_count": null,
   "metadata": {
    "id": "ro0sOs3a14d0"
   },
   "outputs": [],
   "source": [
    "from tensorflow.keras.layers import Dense, Input, Activation, Flatten\n",
    "from tensorflow.keras.layers import BatchNormalization,Add,Dropout\n",
    "from tensorflow.keras.optimizers import Adam\n",
    "from tensorflow.keras.models import Model, load_model\n",
    "from tensorflow.keras.layers import LeakyReLU, ReLU, Conv2D, MaxPooling2D, BatchNormalization, Conv2DTranspose, UpSampling2D, concatenate\n",
    "from tensorflow.keras import callbacks\n",
    "from tensorflow.keras import backend as K"
   ]
  },
  {
   "cell_type": "code",
   "execution_count": null,
   "metadata": {
    "id": "JGa_xyID14gc"
   },
   "outputs": [],
   "source": [
    "\n",
    "def UNet(pretrained_weights = None,input_size = (128,128,3)):\n",
    "    inp = Input(input_size)\n",
    "    conv1 = Conv2D(64, 3, activation = 'relu', padding = 'same', kernel_initializer = 'he_normal')(inp)\n",
    "    conv1 = Conv2D(64, 3, activation = 'relu', padding = 'same', kernel_initializer = 'he_normal')(conv1)\n",
    "    pool1 = MaxPooling2D(pool_size=(2, 2))(conv1)\n",
    "    conv2 = Conv2D(128, 3, activation = 'relu', padding = 'same', kernel_initializer = 'he_normal')(pool1)\n",
    "    conv2 = Conv2D(128, 3, activation = 'relu', padding = 'same', kernel_initializer = 'he_normal')(conv2)\n",
    "    pool2 = MaxPooling2D(pool_size=(2, 2))(conv2)\n",
    "    conv3 = Conv2D(256, 3, activation = 'relu', padding = 'same', kernel_initializer = 'he_normal')(pool2)\n",
    "    conv3 = Conv2D(256, 3, activation = 'relu', padding = 'same', kernel_initializer = 'he_normal')(conv3)\n",
    "    pool3 = MaxPooling2D(pool_size=(2, 2))(conv3)\n",
    "    conv4 = Conv2D(512, 3, activation = 'relu', padding = 'same', kernel_initializer = 'he_normal')(pool3)\n",
    "    conv4 = Conv2D(512, 3, activation = 'relu', padding = 'same', kernel_initializer = 'he_normal')(conv4)\n",
    "    drop4 = Dropout(0.5)(conv4)\n",
    "    pool4 = MaxPooling2D(pool_size=(2, 2))(drop4)\n",
    "\n",
    "    conv5 = Conv2D(1024, 3, activation = 'relu', padding = 'same', kernel_initializer = 'he_normal')(pool4)\n",
    "    conv5 = Conv2D(1024, 3, activation = 'relu', padding = 'same', kernel_initializer = 'he_normal')(conv5)\n",
    "    drop5 = Dropout(0.5)(conv5)\n",
    "\n",
    "    up6 = Conv2D(512, 2, activation = 'relu', padding = 'same', kernel_initializer = 'he_normal')(UpSampling2D(size = (2,2))(drop5))\n",
    "    merge6 = concatenate([drop4,up6], axis = 3)\n",
    "    conv6 = Conv2D(512, 3, activation = 'relu', padding = 'same', kernel_initializer = 'he_normal')(merge6)\n",
    "    conv6 = Conv2D(512, 3, activation = 'relu', padding = 'same', kernel_initializer = 'he_normal')(conv6)\n",
    "\n",
    "    up7 = Conv2D(256, 2, activation = 'relu', padding = 'same', kernel_initializer = 'he_normal')(UpSampling2D(size = (2,2))(conv6))\n",
    "    merge7 = concatenate([conv3,up7], axis = 3)\n",
    "    conv7 = Conv2D(256, 3, activation = 'relu', padding = 'same', kernel_initializer = 'he_normal')(merge7)\n",
    "    conv7 = Conv2D(256, 3, activation = 'relu', padding = 'same', kernel_initializer = 'he_normal')(conv7)\n",
    "\n",
    "    up8 = Conv2D(128, 2, activation = 'relu', padding = 'same', kernel_initializer = 'he_normal')(UpSampling2D(size = (2,2))(conv7))\n",
    "    merge8 = concatenate([conv2,up8], axis = 3)\n",
    "    conv8 = Conv2D(128, 3, activation = 'relu', padding = 'same', kernel_initializer = 'he_normal')(merge8)\n",
    "    conv8 = Conv2D(128, 3, activation = 'relu', padding = 'same', kernel_initializer = 'he_normal')(conv8)\n",
    "\n",
    "    up9 = Conv2D(64, 2, activation = 'relu', padding = 'same', kernel_initializer = 'he_normal')(UpSampling2D(size = (2,2))(conv8))\n",
    "    merge9 = concatenate([conv1,up9], axis = 3)\n",
    "    conv9 = Conv2D(64, 3, activation = 'relu', padding = 'same', kernel_initializer = 'he_normal')(merge9)\n",
    "    conv9 = Conv2D(64, 3, activation = 'relu', padding = 'same', kernel_initializer = 'he_normal')(conv9)\n",
    "    conv9 = Conv2D(2, 3, activation = 'relu', padding = 'same', kernel_initializer = 'he_normal')(conv9)\n",
    "    conv10 = Conv2D(3, 1, activation = 'softmax')(conv9)\n",
    "\n",
    "    model = Model(inputs = inp, outputs=[conv10])\n",
    "\n",
    "    return model"
   ]
  },
  {
   "cell_type": "code",
   "execution_count": null,
   "metadata": {
    "id": "dkpbZuUmEfXN"
   },
   "outputs": [],
   "source": []
  },
  {
   "cell_type": "code",
   "execution_count": null,
   "metadata": {
    "colab": {
     "base_uri": "https://localhost:8080/"
    },
    "id": "QjuwkFDy0yqx",
    "outputId": "cdd6d38f-84c4-4861-dc8f-effa5a8bafbd"
   },
   "outputs": [
    {
     "name": "stdout",
     "output_type": "stream",
     "text": [
      "1464\n",
      "1171.2\n"
     ]
    }
   ],
   "source": [
    "print(len(dataset['image']))\n",
    "print(len(dataset) * 0.8)"
   ]
  },
  {
   "cell_type": "code",
   "execution_count": null,
   "metadata": {
    "id": "osP6aFwV-VF2"
   },
   "outputs": [],
   "source": [
    "train_data = dataset[:1171]\n",
    "test_data = dataset[1171:]"
   ]
  },
  {
   "cell_type": "code",
   "execution_count": null,
   "metadata": {
    "colab": {
     "base_uri": "https://localhost:8080/"
    },
    "id": "JfO4EHsn9qWY",
    "outputId": "ee77fd8e-53ee-4c0d-c280-5e16e31deda7"
   },
   "outputs": [
    {
     "name": "stdout",
     "output_type": "stream",
     "text": [
      "1171\n",
      "1171\n"
     ]
    }
   ],
   "source": [
    "print(len(train_data['image']))\n",
    "print(len(train_data['mask']))"
   ]
  },
  {
   "cell_type": "code",
   "execution_count": null,
   "metadata": {
    "colab": {
     "base_uri": "https://localhost:8080/"
    },
    "id": "cdhRGpSM98hU",
    "outputId": "f14cdb98-a6ef-4444-df37-859f5a295429"
   },
   "outputs": [
    {
     "name": "stdout",
     "output_type": "stream",
     "text": [
      "293\n",
      "293\n"
     ]
    }
   ],
   "source": [
    "print(len(test_data['image']))\n",
    "print(len(test_data['mask']))"
   ]
  },
  {
   "cell_type": "code",
   "execution_count": null,
   "metadata": {
    "id": "44aptgrm_CzD"
   },
   "outputs": [],
   "source": [
    "img_array = np.zeros((1,128,128,3))\n",
    "mask_array = np.zeros((1,128,128,3))"
   ]
  },
  {
   "cell_type": "code",
   "execution_count": null,
   "metadata": {
    "id": "toOxOUErFBVI"
   },
   "outputs": [],
   "source": [
    "for i in range(len(train_data['image'])):\n",
    "  img = np.array(train_data['image'][i])\n",
    "  mask = np.array(train_data['mask'][i])\n",
    "\n",
    "  img = cv2.resize(img, ((128,128)))\n",
    "  mask = cv2.resize(mask, ((128,128)))\n",
    "\n",
    "\n",
    "  img = np.reshape(img, (128,128,3))\n",
    "  mask = np.reshape(mask, (128,128,3))\n",
    "\n",
    "  img_t = np.expand_dims(img, axis=0)\n",
    "\n",
    "  mask_t = np.expand_dims(mask, axis=0)\n",
    "\n",
    "\n",
    "  img_array = np.concatenate((img_array, img_t), axis=0)\n",
    "  mask_array = np.concatenate((mask_array, mask_t), axis=0)"
   ]
  },
  {
   "cell_type": "code",
   "execution_count": null,
   "metadata": {
    "colab": {
     "base_uri": "https://localhost:8080/"
    },
    "id": "m24cUcwVKp-J",
    "outputId": "7bae5fcc-fa54-4985-a3b8-e507067f1634"
   },
   "outputs": [
    {
     "name": "stdout",
     "output_type": "stream",
     "text": [
      "(1172, 128, 128, 3)\n",
      "(1172, 128, 128, 3)\n"
     ]
    }
   ],
   "source": [
    "print(img_array.shape)\n",
    "print(mask_array.shape)"
   ]
  },
  {
   "cell_type": "code",
   "execution_count": null,
   "metadata": {
    "id": "Vqsrd9h8J8D8"
   },
   "outputs": [],
   "source": [
    "import tensorflow as tf\n",
    "tensorboard_callback = tf.keras.callbacks.TensorBoard(log_dir='./content')"
   ]
  },
  {
   "cell_type": "code",
   "execution_count": null,
   "metadata": {
    "colab": {
     "base_uri": "https://localhost:8080/"
    },
    "id": "vLa4U29dJ503",
    "outputId": "14368f1b-eee0-4745-a04e-1828f17f8d76"
   },
   "outputs": [
    {
     "name": "stdout",
     "output_type": "stream",
     "text": [
      "Model: \"model_6\"\n",
      "__________________________________________________________________________________________________\n",
      " Layer (type)                   Output Shape         Param #     Connected to                     \n",
      "==================================================================================================\n",
      " input_12 (InputLayer)          [(None, 128, 128, 3  0           []                               \n",
      "                                )]                                                                \n",
      "                                                                                                  \n",
      " conv2d_259 (Conv2D)            (None, 128, 128, 64  1792        ['input_12[0][0]']               \n",
      "                                )                                                                 \n",
      "                                                                                                  \n",
      " conv2d_260 (Conv2D)            (None, 128, 128, 64  36928       ['conv2d_259[0][0]']             \n",
      "                                )                                                                 \n",
      "                                                                                                  \n",
      " max_pooling2d_44 (MaxPooling2D  (None, 64, 64, 64)  0           ['conv2d_260[0][0]']             \n",
      " )                                                                                                \n",
      "                                                                                                  \n",
      " conv2d_261 (Conv2D)            (None, 64, 64, 128)  73856       ['max_pooling2d_44[0][0]']       \n",
      "                                                                                                  \n",
      " conv2d_262 (Conv2D)            (None, 64, 64, 128)  147584      ['conv2d_261[0][0]']             \n",
      "                                                                                                  \n",
      " max_pooling2d_45 (MaxPooling2D  (None, 32, 32, 128)  0          ['conv2d_262[0][0]']             \n",
      " )                                                                                                \n",
      "                                                                                                  \n",
      " conv2d_263 (Conv2D)            (None, 32, 32, 256)  295168      ['max_pooling2d_45[0][0]']       \n",
      "                                                                                                  \n",
      " conv2d_264 (Conv2D)            (None, 32, 32, 256)  590080      ['conv2d_263[0][0]']             \n",
      "                                                                                                  \n",
      " max_pooling2d_46 (MaxPooling2D  (None, 16, 16, 256)  0          ['conv2d_264[0][0]']             \n",
      " )                                                                                                \n",
      "                                                                                                  \n",
      " conv2d_265 (Conv2D)            (None, 16, 16, 512)  1180160     ['max_pooling2d_46[0][0]']       \n",
      "                                                                                                  \n",
      " conv2d_266 (Conv2D)            (None, 16, 16, 512)  2359808     ['conv2d_265[0][0]']             \n",
      "                                                                                                  \n",
      " dropout_22 (Dropout)           (None, 16, 16, 512)  0           ['conv2d_266[0][0]']             \n",
      "                                                                                                  \n",
      " max_pooling2d_47 (MaxPooling2D  (None, 8, 8, 512)   0           ['dropout_22[0][0]']             \n",
      " )                                                                                                \n",
      "                                                                                                  \n",
      " conv2d_267 (Conv2D)            (None, 8, 8, 1024)   4719616     ['max_pooling2d_47[0][0]']       \n",
      "                                                                                                  \n",
      " conv2d_268 (Conv2D)            (None, 8, 8, 1024)   9438208     ['conv2d_267[0][0]']             \n",
      "                                                                                                  \n",
      " dropout_23 (Dropout)           (None, 8, 8, 1024)   0           ['conv2d_268[0][0]']             \n",
      "                                                                                                  \n",
      " up_sampling2d_44 (UpSampling2D  (None, 16, 16, 1024  0          ['dropout_23[0][0]']             \n",
      " )                              )                                                                 \n",
      "                                                                                                  \n",
      " conv2d_269 (Conv2D)            (None, 16, 16, 512)  2097664     ['up_sampling2d_44[0][0]']       \n",
      "                                                                                                  \n",
      " concatenate_44 (Concatenate)   (None, 16, 16, 1024  0           ['dropout_22[0][0]',             \n",
      "                                )                                 'conv2d_269[0][0]']             \n",
      "                                                                                                  \n",
      " conv2d_270 (Conv2D)            (None, 16, 16, 512)  4719104     ['concatenate_44[0][0]']         \n",
      "                                                                                                  \n",
      " conv2d_271 (Conv2D)            (None, 16, 16, 512)  2359808     ['conv2d_270[0][0]']             \n",
      "                                                                                                  \n",
      " up_sampling2d_45 (UpSampling2D  (None, 32, 32, 512)  0          ['conv2d_271[0][0]']             \n",
      " )                                                                                                \n",
      "                                                                                                  \n",
      " conv2d_272 (Conv2D)            (None, 32, 32, 256)  524544      ['up_sampling2d_45[0][0]']       \n",
      "                                                                                                  \n",
      " concatenate_45 (Concatenate)   (None, 32, 32, 512)  0           ['conv2d_264[0][0]',             \n",
      "                                                                  'conv2d_272[0][0]']             \n",
      "                                                                                                  \n",
      " conv2d_273 (Conv2D)            (None, 32, 32, 256)  1179904     ['concatenate_45[0][0]']         \n",
      "                                                                                                  \n",
      " conv2d_274 (Conv2D)            (None, 32, 32, 256)  590080      ['conv2d_273[0][0]']             \n",
      "                                                                                                  \n",
      " up_sampling2d_46 (UpSampling2D  (None, 64, 64, 256)  0          ['conv2d_274[0][0]']             \n",
      " )                                                                                                \n",
      "                                                                                                  \n",
      " conv2d_275 (Conv2D)            (None, 64, 64, 128)  131200      ['up_sampling2d_46[0][0]']       \n",
      "                                                                                                  \n",
      " concatenate_46 (Concatenate)   (None, 64, 64, 256)  0           ['conv2d_262[0][0]',             \n",
      "                                                                  'conv2d_275[0][0]']             \n",
      "                                                                                                  \n",
      " conv2d_276 (Conv2D)            (None, 64, 64, 128)  295040      ['concatenate_46[0][0]']         \n",
      "                                                                                                  \n",
      " conv2d_277 (Conv2D)            (None, 64, 64, 128)  147584      ['conv2d_276[0][0]']             \n",
      "                                                                                                  \n",
      " up_sampling2d_47 (UpSampling2D  (None, 128, 128, 12  0          ['conv2d_277[0][0]']             \n",
      " )                              8)                                                                \n",
      "                                                                                                  \n",
      " conv2d_278 (Conv2D)            (None, 128, 128, 64  32832       ['up_sampling2d_47[0][0]']       \n",
      "                                )                                                                 \n",
      "                                                                                                  \n",
      " concatenate_47 (Concatenate)   (None, 128, 128, 12  0           ['conv2d_260[0][0]',             \n",
      "                                8)                                'conv2d_278[0][0]']             \n",
      "                                                                                                  \n",
      " conv2d_279 (Conv2D)            (None, 128, 128, 64  73792       ['concatenate_47[0][0]']         \n",
      "                                )                                                                 \n",
      "                                                                                                  \n",
      " conv2d_280 (Conv2D)            (None, 128, 128, 64  36928       ['conv2d_279[0][0]']             \n",
      "                                )                                                                 \n",
      "                                                                                                  \n",
      " conv2d_281 (Conv2D)            (None, 128, 128, 2)  1154        ['conv2d_280[0][0]']             \n",
      "                                                                                                  \n",
      " conv2d_282 (Conv2D)            (None, 128, 128, 3)  9           ['conv2d_281[0][0]']             \n",
      "                                                                                                  \n",
      "==================================================================================================\n",
      "Total params: 31,032,843\n",
      "Trainable params: 31,032,843\n",
      "Non-trainable params: 0\n",
      "__________________________________________________________________________________________________\n"
     ]
    },
    {
     "name": "stderr",
     "output_type": "stream",
     "text": [
      "WARNING:absl:`lr` is deprecated in Keras optimizer, please use `learning_rate` or use the legacy optimizer, e.g.,tf.keras.optimizers.legacy.Adam.\n"
     ]
    }
   ],
   "source": [
    "model = UNet()\n",
    "model.summary()\n",
    "model.compile(optimizer = Adam(lr = 1e-4), loss = 'categorical_crossentropy', metrics = ['accuracy'])"
   ]
  },
  {
   "cell_type": "code",
   "execution_count": null,
   "metadata": {
    "colab": {
     "base_uri": "https://localhost:8080/"
    },
    "id": "gAmZVc-TJBjG",
    "outputId": "33908654-7992-4c6e-f28a-8b540a9f356d"
   },
   "outputs": [
    {
     "name": "stdout",
     "output_type": "stream",
     "text": [
      "190/586 [========>.....................] - ETA: 30:29 - loss: 189.7592 - accuracy: 0.7676"
     ]
    }
   ],
   "source": [
    "history = model.fit(img_array, mask_array, batch_size=2, epochs=1, callbacks=[tensorboard_callback])"
   ]
  },
  {
   "cell_type": "code",
   "execution_count": null,
   "metadata": {
    "id": "3GWlkt_1Xe7D"
   },
   "outputs": [],
   "source": [
    "test_img_array = np.zeros((1,128,128,3))\n",
    "test_mask_array = np.zeros((1,128,128,3))\n",
    "\n",
    "\n",
    "for i in range(len(test_data['image'])):\n",
    "  img = np.array(test_data['image'][i])\n",
    "  mask = np.array(test_data['mask'][i])\n",
    "\n",
    "  img = cv2.resize(img, ((128,128)))\n",
    "  mask = cv2.resize(mask, ((128,128)))\n",
    "\n",
    "\n",
    "  img = np.reshape(img, (128,128,3))\n",
    "  mask = np.reshape(mask, (128,128,3))\n",
    "\n",
    "  img_t = np.expand_dims(img, axis=0)\n",
    "\n",
    "  mask_t = np.expand_dims(mask, axis=0)\n",
    "\n",
    "\n",
    "  img_array = np.concatenate((img_array, img_t), axis=0)\n",
    "  mask_array = np.concatenate((mask_array, mask_t), axis=0)"
   ]
  }
 ],
 "metadata": {
  "colab": {
   "provenance": []
  },
  "kernelspec": {
   "display_name": "Python 3",
   "name": "python3"
  },
  "language_info": {
   "name": "python"
  }
 },
 "nbformat": 4,
 "nbformat_minor": 0
}
