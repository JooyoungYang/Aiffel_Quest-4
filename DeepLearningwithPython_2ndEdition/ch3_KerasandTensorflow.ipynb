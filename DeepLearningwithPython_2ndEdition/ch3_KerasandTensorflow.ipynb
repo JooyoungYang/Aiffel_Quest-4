{
 "cells": [
  {
   "cell_type": "markdown",
   "id": "7daabecb",
   "metadata": {},
   "source": [
    "## 3 Keras and Tensorflow\n",
    "\n",
    "3.1 텐서플로란? <br>\n",
    "3.2 케라스란? <br>\n",
    "3.3 케라스와 텐서플로의 간략한 역사 <br>\n",
    "3.4 딥러닝 작업 환경 설정하기 <br>\n",
    "3.5 텐서플로 시작하기 <br>\n",
    "3.6 신경망의 구조: 핵심 Keras API 이해하기 <br>\n",
    "3.7 요약 <br>"
   ]
  },
  {
   "cell_type": "markdown",
   "id": "26a7467c",
   "metadata": {},
   "source": [
    "### 3.1 텐서플로란?\n",
    "\n",
    "무료오픈소스머신러닝플랫폼"
   ]
  },
  {
   "cell_type": "markdown",
   "id": "2899e9d1",
   "metadata": {},
   "source": [
    "### 3.2 케라스란?"
   ]
  }
 ],
 "metadata": {
  "kernelspec": {
   "display_name": "Python 3 (ipykernel)",
   "language": "python",
   "name": "python3"
  },
  "language_info": {
   "codemirror_mode": {
    "name": "ipython",
    "version": 3
   },
   "file_extension": ".py",
   "mimetype": "text/x-python",
   "name": "python",
   "nbconvert_exporter": "python",
   "pygments_lexer": "ipython3",
   "version": "3.9.7"
  }
 },
 "nbformat": 4,
 "nbformat_minor": 5
}
