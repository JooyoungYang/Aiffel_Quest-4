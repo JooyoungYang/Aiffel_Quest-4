{
 "cells": [
  {
   "cell_type": "markdown",
   "id": "e8d0c69e",
   "metadata": {},
   "source": [
    "## 4 신경망 시작하기: 분류와 회귀 \n",
    "\n",
    "1 영화리뷰분류: 이진 분류 문제 <br>\n",
    "2 뉴스 기사 분류: 다중 분류 문제 <br>\n",
    "3 주택 가격 예측: 회귀 문제 <br>\n",
    "4 요약 <br>\n",
    "\n",
    "\n",
    "#### 분류와 회귀에서 사용하는 용어 \n",
    "\n",
    "### 4.1 영화 리뷰 분류: 이진 분류 문제"
   ]
  }
 ],
 "metadata": {
  "kernelspec": {
   "display_name": "Python 3 (ipykernel)",
   "language": "python",
   "name": "python3"
  },
  "language_info": {
   "codemirror_mode": {
    "name": "ipython",
    "version": 3
   },
   "file_extension": ".py",
   "mimetype": "text/x-python",
   "name": "python",
   "nbconvert_exporter": "python",
   "pygments_lexer": "ipython3",
   "version": "3.9.7"
  }
 },
 "nbformat": 4,
 "nbformat_minor": 5
}
