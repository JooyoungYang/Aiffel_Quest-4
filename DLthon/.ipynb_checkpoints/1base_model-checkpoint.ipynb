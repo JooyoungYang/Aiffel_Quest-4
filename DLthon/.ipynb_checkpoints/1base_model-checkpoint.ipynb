{
 "cells": [
  {
   "cell_type": "code",
   "execution_count": 1,
   "id": "3100b473",
   "metadata": {},
   "outputs": [],
   "source": [
    "import os\n",
    "import re\n",
    "\n",
    "import pandas as pd\n",
    "import numpy as np\n",
    "\n",
    "import tensorflow as tf\n",
    "from konlpy.tag import Mecab\n",
    "from collections import Counter\n",
    "from sklearn.model_selection import train_test_split\n",
    "from tqdm.notebook import tqdm\n",
    "\n",
    "\n",
    "# 모델구성\n",
    "from keras.models import Sequential\n",
    "\n",
    "# 1D CNN\n",
    "from tensorflow.keras.layers import Conv1D, GlobalMaxPooling1D, Embedding\n",
    "\n",
    "# LSTM\n",
    "from tensorflow.keras.layers import Embedding, LSTM, Dense\n",
    "\n",
    "# Bidireictional, Attention\n",
    "from tensorflow.keras.layers import Bidirectional, Attention\n",
    "\n",
    "# GRU\n",
    "from tensorflow.keras.layers import GRU\n",
    "\n",
    "\n",
    "import matplotlib.pyplot as plt\n",
    "import platform\n",
    "from tqdm.notebook import tqdm"
   ]
  },
  {
   "cell_type": "markdown",
   "id": "eb6dad03",
   "metadata": {},
   "source": [
    "### Step1. 데이터 불러오기"
   ]
  },
  {
   "cell_type": "code",
   "execution_count": 2,
   "id": "4e983b96",
   "metadata": {},
   "outputs": [
    {
     "data": {
      "text/html": [
       "<div>\n",
       "<style scoped>\n",
       "    .dataframe tbody tr th:only-of-type {\n",
       "        vertical-align: middle;\n",
       "    }\n",
       "\n",
       "    .dataframe tbody tr th {\n",
       "        vertical-align: top;\n",
       "    }\n",
       "\n",
       "    .dataframe thead th {\n",
       "        text-align: right;\n",
       "    }\n",
       "</style>\n",
       "<table border=\"1\" class=\"dataframe\">\n",
       "  <thead>\n",
       "    <tr style=\"text-align: right;\">\n",
       "      <th></th>\n",
       "      <th>idx</th>\n",
       "      <th>class</th>\n",
       "      <th>conversation</th>\n",
       "    </tr>\n",
       "  </thead>\n",
       "  <tbody>\n",
       "    <tr>\n",
       "      <th>3945</th>\n",
       "      <td>3945</td>\n",
       "      <td>기타 괴롭힘 대화</td>\n",
       "      <td>준하야 넌 대가리가 왜이렇게 크냐?\\n내 머리가 뭐.\\n밥먹으면 대가리만 크냐 너는...</td>\n",
       "    </tr>\n",
       "    <tr>\n",
       "      <th>3946</th>\n",
       "      <td>3946</td>\n",
       "      <td>갈취 대화</td>\n",
       "      <td>내가 지금 너 아들 김길준 데리고 있어. 살리고 싶으면 계좌에 1억만 보내\\n예.?...</td>\n",
       "    </tr>\n",
       "    <tr>\n",
       "      <th>3947</th>\n",
       "      <td>3947</td>\n",
       "      <td>직장 내 괴롭힘 대화</td>\n",
       "      <td>나는 씨 같은 사람 보면 참 신기하더라. 어떻게 저렇게 살지.\\n왜 그래. 들리겠어...</td>\n",
       "    </tr>\n",
       "    <tr>\n",
       "      <th>3948</th>\n",
       "      <td>3948</td>\n",
       "      <td>갈취 대화</td>\n",
       "      <td>누구맘대로 여기서 장사하래?\\n이게 무슨일입니까?\\n남의 구역에서 장사하려면 자릿세...</td>\n",
       "    </tr>\n",
       "    <tr>\n",
       "      <th>3949</th>\n",
       "      <td>3949</td>\n",
       "      <td>직장 내 괴롭힘 대화</td>\n",
       "      <td>희정씨\\n네?\\n주말에 시간이 넘쳐나나봐\\n갑자기 왜그러세요?\\n손이 빤짝빤짝 네일...</td>\n",
       "    </tr>\n",
       "  </tbody>\n",
       "</table>\n",
       "</div>"
      ],
      "text/plain": [
       "       idx        class                                       conversation\n",
       "3945  3945    기타 괴롭힘 대화  준하야 넌 대가리가 왜이렇게 크냐?\\n내 머리가 뭐.\\n밥먹으면 대가리만 크냐 너는...\n",
       "3946  3946        갈취 대화  내가 지금 너 아들 김길준 데리고 있어. 살리고 싶으면 계좌에 1억만 보내\\n예.?...\n",
       "3947  3947  직장 내 괴롭힘 대화  나는 씨 같은 사람 보면 참 신기하더라. 어떻게 저렇게 살지.\\n왜 그래. 들리겠어...\n",
       "3948  3948        갈취 대화  누구맘대로 여기서 장사하래?\\n이게 무슨일입니까?\\n남의 구역에서 장사하려면 자릿세...\n",
       "3949  3949  직장 내 괴롭힘 대화  희정씨\\n네?\\n주말에 시간이 넘쳐나나봐\\n갑자기 왜그러세요?\\n손이 빤짝빤짝 네일..."
      ]
     },
     "execution_count": 2,
     "metadata": {},
     "output_type": "execute_result"
    }
   ],
   "source": [
    "train_data_path =\"~/data/train.csv\"\n",
    "train_data = pd.read_csv(train_data_path)\n",
    "train_data.tail()"
   ]
  },
  {
   "cell_type": "code",
   "execution_count": 3,
   "id": "72fe5e4c",
   "metadata": {},
   "outputs": [
    {
     "data": {
      "text/plain": [
       "idx              int64\n",
       "class           object\n",
       "conversation    object\n",
       "dtype: object"
      ]
     },
     "execution_count": 3,
     "metadata": {},
     "output_type": "execute_result"
    }
   ],
   "source": [
    "train_data.dtypes"
   ]
  },
  {
   "cell_type": "code",
   "execution_count": 4,
   "id": "5141678d",
   "metadata": {},
   "outputs": [],
   "source": [
    "label_mapping = {\n",
    "    '협박 대화': 0,\n",
    "    '갈취 대화': 1,\n",
    "    '직장 내 괴롭힘 대화': 2,\n",
    "    '기타 괴롭힘 대화': 3\n",
    "    # 이와 같이 레이블과 숫자를 매핑해줍니다.\n",
    "}\n",
    "train_data['class'] = train_data['class'].replace(label_mapping).astype('int')"
   ]
  },
  {
   "cell_type": "code",
   "execution_count": 5,
   "id": "5039584f",
   "metadata": {},
   "outputs": [
    {
     "data": {
      "text/html": [
       "<div>\n",
       "<style scoped>\n",
       "    .dataframe tbody tr th:only-of-type {\n",
       "        vertical-align: middle;\n",
       "    }\n",
       "\n",
       "    .dataframe tbody tr th {\n",
       "        vertical-align: top;\n",
       "    }\n",
       "\n",
       "    .dataframe thead th {\n",
       "        text-align: right;\n",
       "    }\n",
       "</style>\n",
       "<table border=\"1\" class=\"dataframe\">\n",
       "  <thead>\n",
       "    <tr style=\"text-align: right;\">\n",
       "      <th></th>\n",
       "      <th>idx</th>\n",
       "      <th>class</th>\n",
       "      <th>conversation</th>\n",
       "    </tr>\n",
       "  </thead>\n",
       "  <tbody>\n",
       "    <tr>\n",
       "      <th>0</th>\n",
       "      <td>0</td>\n",
       "      <td>0</td>\n",
       "      <td>지금 너 스스로를 죽여달라고 애원하는 것인가?\\n 아닙니다. 죄송합니다.\\n 죽을 ...</td>\n",
       "    </tr>\n",
       "    <tr>\n",
       "      <th>1</th>\n",
       "      <td>1</td>\n",
       "      <td>0</td>\n",
       "      <td>길동경찰서입니다.\\n9시 40분 마트에 폭발물을 설치할거다.\\n네?\\n똑바로 들어 ...</td>\n",
       "    </tr>\n",
       "    <tr>\n",
       "      <th>2</th>\n",
       "      <td>2</td>\n",
       "      <td>3</td>\n",
       "      <td>너 되게 귀여운거 알지? 나보다 작은 남자는 첨봤어.\\n그만해. 니들 놀리는거 재미...</td>\n",
       "    </tr>\n",
       "    <tr>\n",
       "      <th>3</th>\n",
       "      <td>3</td>\n",
       "      <td>1</td>\n",
       "      <td>어이 거기\\n예??\\n너 말이야 너. 이리 오라고\\n무슨 일.\\n너 옷 좋아보인다?...</td>\n",
       "    </tr>\n",
       "    <tr>\n",
       "      <th>4</th>\n",
       "      <td>4</td>\n",
       "      <td>1</td>\n",
       "      <td>저기요 혹시 날이 너무 뜨겁잖아요? 저희 회사에서 이 선크림 파는데 한 번 손등에 ...</td>\n",
       "    </tr>\n",
       "    <tr>\n",
       "      <th>...</th>\n",
       "      <td>...</td>\n",
       "      <td>...</td>\n",
       "      <td>...</td>\n",
       "    </tr>\n",
       "    <tr>\n",
       "      <th>3945</th>\n",
       "      <td>3945</td>\n",
       "      <td>3</td>\n",
       "      <td>준하야 넌 대가리가 왜이렇게 크냐?\\n내 머리가 뭐.\\n밥먹으면 대가리만 크냐 너는...</td>\n",
       "    </tr>\n",
       "    <tr>\n",
       "      <th>3946</th>\n",
       "      <td>3946</td>\n",
       "      <td>1</td>\n",
       "      <td>내가 지금 너 아들 김길준 데리고 있어. 살리고 싶으면 계좌에 1억만 보내\\n예.?...</td>\n",
       "    </tr>\n",
       "    <tr>\n",
       "      <th>3947</th>\n",
       "      <td>3947</td>\n",
       "      <td>2</td>\n",
       "      <td>나는 씨 같은 사람 보면 참 신기하더라. 어떻게 저렇게 살지.\\n왜 그래. 들리겠어...</td>\n",
       "    </tr>\n",
       "    <tr>\n",
       "      <th>3948</th>\n",
       "      <td>3948</td>\n",
       "      <td>1</td>\n",
       "      <td>누구맘대로 여기서 장사하래?\\n이게 무슨일입니까?\\n남의 구역에서 장사하려면 자릿세...</td>\n",
       "    </tr>\n",
       "    <tr>\n",
       "      <th>3949</th>\n",
       "      <td>3949</td>\n",
       "      <td>2</td>\n",
       "      <td>희정씨\\n네?\\n주말에 시간이 넘쳐나나봐\\n갑자기 왜그러세요?\\n손이 빤짝빤짝 네일...</td>\n",
       "    </tr>\n",
       "  </tbody>\n",
       "</table>\n",
       "<p>3950 rows × 3 columns</p>\n",
       "</div>"
      ],
      "text/plain": [
       "       idx  class                                       conversation\n",
       "0        0      0  지금 너 스스로를 죽여달라고 애원하는 것인가?\\n 아닙니다. 죄송합니다.\\n 죽을 ...\n",
       "1        1      0  길동경찰서입니다.\\n9시 40분 마트에 폭발물을 설치할거다.\\n네?\\n똑바로 들어 ...\n",
       "2        2      3  너 되게 귀여운거 알지? 나보다 작은 남자는 첨봤어.\\n그만해. 니들 놀리는거 재미...\n",
       "3        3      1  어이 거기\\n예??\\n너 말이야 너. 이리 오라고\\n무슨 일.\\n너 옷 좋아보인다?...\n",
       "4        4      1  저기요 혹시 날이 너무 뜨겁잖아요? 저희 회사에서 이 선크림 파는데 한 번 손등에 ...\n",
       "...    ...    ...                                                ...\n",
       "3945  3945      3  준하야 넌 대가리가 왜이렇게 크냐?\\n내 머리가 뭐.\\n밥먹으면 대가리만 크냐 너는...\n",
       "3946  3946      1  내가 지금 너 아들 김길준 데리고 있어. 살리고 싶으면 계좌에 1억만 보내\\n예.?...\n",
       "3947  3947      2  나는 씨 같은 사람 보면 참 신기하더라. 어떻게 저렇게 살지.\\n왜 그래. 들리겠어...\n",
       "3948  3948      1  누구맘대로 여기서 장사하래?\\n이게 무슨일입니까?\\n남의 구역에서 장사하려면 자릿세...\n",
       "3949  3949      2  희정씨\\n네?\\n주말에 시간이 넘쳐나나봐\\n갑자기 왜그러세요?\\n손이 빤짝빤짝 네일...\n",
       "\n",
       "[3950 rows x 3 columns]"
      ]
     },
     "execution_count": 5,
     "metadata": {},
     "output_type": "execute_result"
    }
   ],
   "source": [
    "train_data"
   ]
  },
  {
   "cell_type": "code",
   "execution_count": 6,
   "id": "e1c494e3",
   "metadata": {},
   "outputs": [
    {
     "data": {
      "text/plain": [
       "idx              int64\n",
       "class            int64\n",
       "conversation    object\n",
       "dtype: object"
      ]
     },
     "execution_count": 6,
     "metadata": {},
     "output_type": "execute_result"
    }
   ],
   "source": [
    "train_data.dtypes"
   ]
  },
  {
   "cell_type": "code",
   "execution_count": null,
   "id": "777924ca",
   "metadata": {},
   "outputs": [],
   "source": []
  },
  {
   "cell_type": "code",
   "execution_count": 7,
   "id": "aef76a2d",
   "metadata": {},
   "outputs": [],
   "source": [
    "test_data_path =\"~/data/test.json\"\n",
    "test_data = pd.read_json(test_data_path)\n",
    "test_data = test_data.transpose()\n",
    "test_data.to_csv(\"test_data.csv\", mode=\"w\")"
   ]
  },
  {
   "cell_type": "code",
   "execution_count": 8,
   "id": "5e8d8427",
   "metadata": {},
   "outputs": [
    {
     "data": {
      "text/html": [
       "<div>\n",
       "<style scoped>\n",
       "    .dataframe tbody tr th:only-of-type {\n",
       "        vertical-align: middle;\n",
       "    }\n",
       "\n",
       "    .dataframe tbody tr th {\n",
       "        vertical-align: top;\n",
       "    }\n",
       "\n",
       "    .dataframe thead th {\n",
       "        text-align: right;\n",
       "    }\n",
       "</style>\n",
       "<table border=\"1\" class=\"dataframe\">\n",
       "  <thead>\n",
       "    <tr style=\"text-align: right;\">\n",
       "      <th></th>\n",
       "      <th>text</th>\n",
       "    </tr>\n",
       "  </thead>\n",
       "  <tbody>\n",
       "    <tr>\n",
       "      <th>t_495</th>\n",
       "      <td>미나씨 휴가 결제 올리기 전에 저랑 상의하라고 말한거 기억해요? 네 합니다. 보고서...</td>\n",
       "    </tr>\n",
       "    <tr>\n",
       "      <th>t_496</th>\n",
       "      <td>교수님 제 논문에 제 이름이 없나요?  아 무슨 논문말이야?  지난 번 냈던 논문이...</td>\n",
       "    </tr>\n",
       "    <tr>\n",
       "      <th>t_497</th>\n",
       "      <td>야 너  네 저요? 그래 너 왜요 돈좀 줘봐  돈 없어요 돈이 왜 없어 지갑은 폼이...</td>\n",
       "    </tr>\n",
       "    <tr>\n",
       "      <th>t_498</th>\n",
       "      <td>야 너 빨리 안 뛰어와? 너 이 환자 제대로 봤어 안 봤어 어제 저녁부터 계속 보다...</td>\n",
       "    </tr>\n",
       "    <tr>\n",
       "      <th>t_499</th>\n",
       "      <td>엄마 저 그 돈 안해주시면 정말 큰일나요.  이유도 말하지 않고. 몇번째니 경민아....</td>\n",
       "    </tr>\n",
       "  </tbody>\n",
       "</table>\n",
       "</div>"
      ],
      "text/plain": [
       "                                                    text\n",
       "t_495  미나씨 휴가 결제 올리기 전에 저랑 상의하라고 말한거 기억해요? 네 합니다. 보고서...\n",
       "t_496  교수님 제 논문에 제 이름이 없나요?  아 무슨 논문말이야?  지난 번 냈던 논문이...\n",
       "t_497  야 너  네 저요? 그래 너 왜요 돈좀 줘봐  돈 없어요 돈이 왜 없어 지갑은 폼이...\n",
       "t_498  야 너 빨리 안 뛰어와? 너 이 환자 제대로 봤어 안 봤어 어제 저녁부터 계속 보다...\n",
       "t_499  엄마 저 그 돈 안해주시면 정말 큰일나요.  이유도 말하지 않고. 몇번째니 경민아...."
      ]
     },
     "execution_count": 8,
     "metadata": {},
     "output_type": "execute_result"
    }
   ],
   "source": [
    "test_data = pd.read_csv('./test_data.csv', index_col= 0)\n",
    "test_data.tail()"
   ]
  },
  {
   "cell_type": "code",
   "execution_count": 9,
   "id": "40f4e135",
   "metadata": {},
   "outputs": [
    {
     "data": {
      "text/plain": [
       "400"
      ]
     },
     "execution_count": 9,
     "metadata": {},
     "output_type": "execute_result"
    }
   ],
   "source": [
    "len(test_data)"
   ]
  },
  {
   "cell_type": "code",
   "execution_count": 10,
   "id": "233cf3d7",
   "metadata": {},
   "outputs": [],
   "source": [
    "# sample_answersheet_path =\"~/data/sample_answersheet.json\"\n",
    "# sample_answersheet_data = pd.read_json(sample_answersheet_path)\n",
    "# sample_answersheet_data.tail()\n",
    "# # sample_answersheet_data = sample_answersheet_data.transpose()\n",
    "# # sample_answersheet_data.to_csv(\"sample_answersheet_.csv\", mode=\"w\")"
   ]
  },
  {
   "cell_type": "code",
   "execution_count": null,
   "id": "791998eb",
   "metadata": {},
   "outputs": [],
   "source": []
  },
  {
   "cell_type": "markdown",
   "id": "6ed3b9a4",
   "metadata": {},
   "source": [
    "1. 데이터 살펴보기"
   ]
  },
  {
   "cell_type": "code",
   "execution_count": 11,
   "id": "28849e79",
   "metadata": {},
   "outputs": [
    {
     "data": {
      "text/html": [
       "<div>\n",
       "<style scoped>\n",
       "    .dataframe tbody tr th:only-of-type {\n",
       "        vertical-align: middle;\n",
       "    }\n",
       "\n",
       "    .dataframe tbody tr th {\n",
       "        vertical-align: top;\n",
       "    }\n",
       "\n",
       "    .dataframe thead th {\n",
       "        text-align: right;\n",
       "    }\n",
       "</style>\n",
       "<table border=\"1\" class=\"dataframe\">\n",
       "  <thead>\n",
       "    <tr style=\"text-align: right;\">\n",
       "      <th></th>\n",
       "      <th>idx</th>\n",
       "      <th>conversation</th>\n",
       "    </tr>\n",
       "    <tr>\n",
       "      <th>class</th>\n",
       "      <th></th>\n",
       "      <th></th>\n",
       "    </tr>\n",
       "  </thead>\n",
       "  <tbody>\n",
       "    <tr>\n",
       "      <th>0</th>\n",
       "      <td>896</td>\n",
       "      <td>896</td>\n",
       "    </tr>\n",
       "    <tr>\n",
       "      <th>1</th>\n",
       "      <td>981</td>\n",
       "      <td>981</td>\n",
       "    </tr>\n",
       "    <tr>\n",
       "      <th>2</th>\n",
       "      <td>979</td>\n",
       "      <td>979</td>\n",
       "    </tr>\n",
       "    <tr>\n",
       "      <th>3</th>\n",
       "      <td>1094</td>\n",
       "      <td>1094</td>\n",
       "    </tr>\n",
       "  </tbody>\n",
       "</table>\n",
       "</div>"
      ],
      "text/plain": [
       "        idx  conversation\n",
       "class                    \n",
       "0       896           896\n",
       "1       981           981\n",
       "2       979           979\n",
       "3      1094          1094"
      ]
     },
     "execution_count": 11,
     "metadata": {},
     "output_type": "execute_result"
    }
   ],
   "source": [
    "train_data.groupby('class').count()"
   ]
  },
  {
   "cell_type": "code",
   "execution_count": null,
   "id": "a3e363c0",
   "metadata": {},
   "outputs": [],
   "source": []
  },
  {
   "cell_type": "markdown",
   "id": "bf7182e5",
   "metadata": {},
   "source": [
    "2. 데이터 중복 제거 "
   ]
  },
  {
   "cell_type": "code",
   "execution_count": 12,
   "id": "fbc972c0",
   "metadata": {},
   "outputs": [
    {
     "data": {
      "text/html": [
       "<div>\n",
       "<style scoped>\n",
       "    .dataframe tbody tr th:only-of-type {\n",
       "        vertical-align: middle;\n",
       "    }\n",
       "\n",
       "    .dataframe tbody tr th {\n",
       "        vertical-align: top;\n",
       "    }\n",
       "\n",
       "    .dataframe thead th {\n",
       "        text-align: right;\n",
       "    }\n",
       "</style>\n",
       "<table border=\"1\" class=\"dataframe\">\n",
       "  <thead>\n",
       "    <tr style=\"text-align: right;\">\n",
       "      <th></th>\n",
       "      <th>idx</th>\n",
       "      <th>class</th>\n",
       "      <th>conversation</th>\n",
       "    </tr>\n",
       "  </thead>\n",
       "  <tbody>\n",
       "    <tr>\n",
       "      <th>0</th>\n",
       "      <td>0</td>\n",
       "      <td>0</td>\n",
       "      <td>지금 너 스스로를 죽여달라고 애원하는 것인가?\\n 아닙니다. 죄송합니다.\\n 죽을 ...</td>\n",
       "    </tr>\n",
       "    <tr>\n",
       "      <th>1</th>\n",
       "      <td>1</td>\n",
       "      <td>0</td>\n",
       "      <td>길동경찰서입니다.\\n9시 40분 마트에 폭발물을 설치할거다.\\n네?\\n똑바로 들어 ...</td>\n",
       "    </tr>\n",
       "    <tr>\n",
       "      <th>2</th>\n",
       "      <td>2</td>\n",
       "      <td>3</td>\n",
       "      <td>너 되게 귀여운거 알지? 나보다 작은 남자는 첨봤어.\\n그만해. 니들 놀리는거 재미...</td>\n",
       "    </tr>\n",
       "    <tr>\n",
       "      <th>3</th>\n",
       "      <td>3</td>\n",
       "      <td>1</td>\n",
       "      <td>어이 거기\\n예??\\n너 말이야 너. 이리 오라고\\n무슨 일.\\n너 옷 좋아보인다?...</td>\n",
       "    </tr>\n",
       "    <tr>\n",
       "      <th>4</th>\n",
       "      <td>4</td>\n",
       "      <td>1</td>\n",
       "      <td>저기요 혹시 날이 너무 뜨겁잖아요? 저희 회사에서 이 선크림 파는데 한 번 손등에 ...</td>\n",
       "    </tr>\n",
       "    <tr>\n",
       "      <th>...</th>\n",
       "      <td>...</td>\n",
       "      <td>...</td>\n",
       "      <td>...</td>\n",
       "    </tr>\n",
       "    <tr>\n",
       "      <th>3945</th>\n",
       "      <td>3945</td>\n",
       "      <td>3</td>\n",
       "      <td>준하야 넌 대가리가 왜이렇게 크냐?\\n내 머리가 뭐.\\n밥먹으면 대가리만 크냐 너는...</td>\n",
       "    </tr>\n",
       "    <tr>\n",
       "      <th>3946</th>\n",
       "      <td>3946</td>\n",
       "      <td>1</td>\n",
       "      <td>내가 지금 너 아들 김길준 데리고 있어. 살리고 싶으면 계좌에 1억만 보내\\n예.?...</td>\n",
       "    </tr>\n",
       "    <tr>\n",
       "      <th>3947</th>\n",
       "      <td>3947</td>\n",
       "      <td>2</td>\n",
       "      <td>나는 씨 같은 사람 보면 참 신기하더라. 어떻게 저렇게 살지.\\n왜 그래. 들리겠어...</td>\n",
       "    </tr>\n",
       "    <tr>\n",
       "      <th>3948</th>\n",
       "      <td>3948</td>\n",
       "      <td>1</td>\n",
       "      <td>누구맘대로 여기서 장사하래?\\n이게 무슨일입니까?\\n남의 구역에서 장사하려면 자릿세...</td>\n",
       "    </tr>\n",
       "    <tr>\n",
       "      <th>3949</th>\n",
       "      <td>3949</td>\n",
       "      <td>2</td>\n",
       "      <td>희정씨\\n네?\\n주말에 시간이 넘쳐나나봐\\n갑자기 왜그러세요?\\n손이 빤짝빤짝 네일...</td>\n",
       "    </tr>\n",
       "  </tbody>\n",
       "</table>\n",
       "<p>3846 rows × 3 columns</p>\n",
       "</div>"
      ],
      "text/plain": [
       "       idx  class                                       conversation\n",
       "0        0      0  지금 너 스스로를 죽여달라고 애원하는 것인가?\\n 아닙니다. 죄송합니다.\\n 죽을 ...\n",
       "1        1      0  길동경찰서입니다.\\n9시 40분 마트에 폭발물을 설치할거다.\\n네?\\n똑바로 들어 ...\n",
       "2        2      3  너 되게 귀여운거 알지? 나보다 작은 남자는 첨봤어.\\n그만해. 니들 놀리는거 재미...\n",
       "3        3      1  어이 거기\\n예??\\n너 말이야 너. 이리 오라고\\n무슨 일.\\n너 옷 좋아보인다?...\n",
       "4        4      1  저기요 혹시 날이 너무 뜨겁잖아요? 저희 회사에서 이 선크림 파는데 한 번 손등에 ...\n",
       "...    ...    ...                                                ...\n",
       "3945  3945      3  준하야 넌 대가리가 왜이렇게 크냐?\\n내 머리가 뭐.\\n밥먹으면 대가리만 크냐 너는...\n",
       "3946  3946      1  내가 지금 너 아들 김길준 데리고 있어. 살리고 싶으면 계좌에 1억만 보내\\n예.?...\n",
       "3947  3947      2  나는 씨 같은 사람 보면 참 신기하더라. 어떻게 저렇게 살지.\\n왜 그래. 들리겠어...\n",
       "3948  3948      1  누구맘대로 여기서 장사하래?\\n이게 무슨일입니까?\\n남의 구역에서 장사하려면 자릿세...\n",
       "3949  3949      2  희정씨\\n네?\\n주말에 시간이 넘쳐나나봐\\n갑자기 왜그러세요?\\n손이 빤짝빤짝 네일...\n",
       "\n",
       "[3846 rows x 3 columns]"
      ]
     },
     "execution_count": 12,
     "metadata": {},
     "output_type": "execute_result"
    }
   ],
   "source": [
    "train_data2 = train_data.drop_duplicates(['conversation'])  # conversation만 같아도 지워진 꼴이 됐음;\n",
    "train_data2"
   ]
  },
  {
   "cell_type": "code",
   "execution_count": null,
   "id": "769007e8",
   "metadata": {},
   "outputs": [],
   "source": []
  },
  {
   "cell_type": "markdown",
   "id": "3a08b7af",
   "metadata": {},
   "source": [
    "3. 데이터 분포 보기"
   ]
  },
  {
   "cell_type": "code",
   "execution_count": 13,
   "id": "4f351a7f",
   "metadata": {},
   "outputs": [
    {
     "name": "stdout",
     "output_type": "stream",
     "text": [
      "Data Size: 3846\n",
      "문장의 최단 길이: 41\n",
      "문장의 최장 길이: 874\n",
      "문장의 평균 길이: 227\n"
     ]
    },
    {
     "data": {
      "image/png": "[encoded data removed]",
      "text/plain": [
       "<Figure size 432x288 with 1 Axes>"
      ]
     },
     "metadata": {
      "needs_background": "light"
     },
     "output_type": "display_data"
    }
   ],
   "source": [
    "min_len = 999\n",
    "max_len = 0\n",
    "sum_len = 0\n",
    "\n",
    "cleaned_corpus_cov = list(set(train_data.conversation))  # set를 사용해서 중복을 제거합니다.\n",
    "print(\"Data Size:\", len(cleaned_corpus_cov))\n",
    "\n",
    "\n",
    "\n",
    "# 한글 폰트 설정\n",
    "if platform.system() == 'Windows':\n",
    "    plt.rc('font', family='Malgun Gothic')\n",
    "elif platform.system() == 'Darwin':\n",
    "    plt.rc('font', family='AppleGothic')\n",
    "else:\n",
    "    plt.rc('font', family='NanumGothic')  # 리눅스의 경우 나눔고딕 폰트를 사용하도록 변경해주세요.\n",
    "\n",
    "# 그래프에서 마이너스 기호가 표시되도록 설정\n",
    "plt.rc('axes', unicode_minus=False)\n",
    "\n",
    "\n",
    "\n",
    "for sen in cleaned_corpus_cov:\n",
    "    length = len(sen)\n",
    "    if min_len > length: min_len = length\n",
    "    if max_len < length: max_len = length\n",
    "    sum_len += length\n",
    "\n",
    "print(\"문장의 최단 길이:\", min_len)\n",
    "print(\"문장의 최장 길이:\", max_len)\n",
    "print(\"문장의 평균 길이:\", sum_len // len(cleaned_corpus_cov))\n",
    "\n",
    "sentence_length = np.zeros((max_len), dtype=int)\n",
    "\n",
    "for sen in cleaned_corpus_cov:   # 중복이 제거된 코퍼스 기준\n",
    "    sentence_length[len(sen)-1] += 1\n",
    "\n",
    "plt.bar(range(max_len), sentence_length, width=1.0)\n",
    "plt.title(\"Sentence Length Distribution\")\n",
    "plt.xlabel(xlabel='글자 수')\n",
    "plt.ylabel(ylabel='빈도 수')\n",
    "plt.show()"
   ]
  },
  {
   "cell_type": "code",
   "execution_count": 14,
   "id": "28ab905b",
   "metadata": {},
   "outputs": [
    {
     "name": "stdout",
     "output_type": "stream",
     "text": [
      "최대길이: 874\n",
      "최소길이: 41\n",
      "평균길이: 226.57088607594937\n"
     ]
    },
    {
     "data": {
      "image/png": "[encoded data removed]",
      "text/plain": [
       "<Figure size 432x288 with 1 Axes>"
      ]
     },
     "metadata": {
      "needs_background": "light"
     },
     "output_type": "display_data"
    }
   ],
   "source": [
    "# 중복제거 \n",
    "ax = train_data.conversation.str.len().hist()\n",
    "\n",
    "max_length = train_data.conversation.str.len().max()\n",
    "min_length = train_data.conversation.str.len().min()\n",
    "mean_length = train_data.conversation.str.len().mean()\n",
    "\n",
    "ax.set_xlabel(xlabel='글자 수')\n",
    "ax.set_ylabel(ylabel='빈도 수')\n",
    "\n",
    "print(\"최대길이:\", max_length)\n",
    "print(\"최소길이:\", min_length)\n",
    "print(\"평균길이:\", mean_length)"
   ]
  },
  {
   "cell_type": "markdown",
   "id": "b3981683",
   "metadata": {},
   "source": [
    "중복을 제거하나 안하나 별 차이가 없다. 그냥 데이터 정제나 해야겠다. "
   ]
  },
  {
   "cell_type": "code",
   "execution_count": null,
   "id": "0de86360",
   "metadata": {},
   "outputs": [],
   "source": []
  },
  {
   "cell_type": "code",
   "execution_count": 15,
   "id": "400fd5e6",
   "metadata": {},
   "outputs": [
    {
     "data": {
      "text/plain": [
       "'어이 거기\\n네?\\n팔이 아주 무겁겠어\\n네?\\n반짝반짝 하는 것이 무거울까봐 걱정되서 글지\\n왜그러세요\\n내가무거울까봐 대신 받아서 차줄게 걱정마\\n제거에요. 그러지 마세요\\n금팔찌에 비해 팔목이 가늘잖아. 내가 걱정돼서 그래\\n아아 팔이 아파요 놔주세요\\n그러니까 그냥 내놔'"
      ]
     },
     "execution_count": 15,
     "metadata": {},
     "output_type": "execute_result"
    }
   ],
   "source": [
    "cleaned_corpus_cov[0]"
   ]
  },
  {
   "cell_type": "code",
   "execution_count": 16,
   "id": "e99216ed",
   "metadata": {},
   "outputs": [
    {
     "data": {
      "text/plain": [
       "list"
      ]
     },
     "execution_count": 16,
     "metadata": {},
     "output_type": "execute_result"
    }
   ],
   "source": [
    "type(cleaned_corpus_cov)"
   ]
  },
  {
   "cell_type": "code",
   "execution_count": null,
   "id": "6782265a",
   "metadata": {},
   "outputs": [],
   "source": []
  },
  {
   "cell_type": "code",
   "execution_count": null,
   "id": "8b0357e9",
   "metadata": {},
   "outputs": [],
   "source": []
  },
  {
   "cell_type": "markdown",
   "id": "5d418fb3",
   "metadata": {},
   "source": [
    "### Step2. 데이터 정제"
   ]
  },
  {
   "cell_type": "code",
   "execution_count": 17,
   "id": "a0db3fdb",
   "metadata": {},
   "outputs": [],
   "source": [
    "tokenizer = Mecab()\n",
    "stopwords = ['의','가','이','은','들','는','좀','잘','걍','과','도','를','으로','자','에','와','한','하다']\n",
    "\n",
    "\n",
    "x_train, x_test, y_train, y_test = train_test_split(train_data2['conversation'], train_data2['class'], test_size=0.2)"
   ]
  },
  {
   "cell_type": "code",
   "execution_count": 18,
   "id": "e329903f",
   "metadata": {},
   "outputs": [
    {
     "data": {
      "text/plain": [
       "['어',\n",
       " '이',\n",
       " '거기',\n",
       " '네',\n",
       " '?',\n",
       " '팔',\n",
       " '이',\n",
       " '아주',\n",
       " '무겁',\n",
       " '겠',\n",
       " '어',\n",
       " '네',\n",
       " '?',\n",
       " '반짝반짝',\n",
       " '하',\n",
       " '는',\n",
       " '것',\n",
       " '이',\n",
       " '무거울까',\n",
       " '봐',\n",
       " '걱정',\n",
       " '되',\n",
       " '서',\n",
       " '글',\n",
       " '지',\n",
       " '왜',\n",
       " '그러',\n",
       " '세요',\n",
       " '내',\n",
       " '가',\n",
       " '무거울까',\n",
       " '봐',\n",
       " '대신',\n",
       " '받',\n",
       " '아서',\n",
       " '차',\n",
       " '줄',\n",
       " '게',\n",
       " '걱정',\n",
       " '마',\n",
       " '제',\n",
       " '거',\n",
       " '에요',\n",
       " '.',\n",
       " '그러',\n",
       " '지',\n",
       " '마세요',\n",
       " '금팔찌',\n",
       " '에',\n",
       " '비해',\n",
       " '팔목',\n",
       " '이',\n",
       " '가늘',\n",
       " '잖아',\n",
       " '.',\n",
       " '내',\n",
       " '가',\n",
       " '걱정',\n",
       " '돼서',\n",
       " '그래',\n",
       " '아아',\n",
       " '팔',\n",
       " '이',\n",
       " '아파',\n",
       " '요',\n",
       " '놔',\n",
       " '주',\n",
       " '세요',\n",
       " '그러니까',\n",
       " '그냥',\n",
       " '내놔']"
      ]
     },
     "execution_count": 18,
     "metadata": {},
     "output_type": "execute_result"
    }
   ],
   "source": [
    "token_data= tokenizer.morphs(cleaned_corpus_cov[0])\n",
    "token_data"
   ]
  },
  {
   "cell_type": "code",
   "execution_count": 19,
   "id": "90e179a4",
   "metadata": {},
   "outputs": [
    {
     "data": {
      "text/plain": [
       "'지금 너 스스로를 죽여달라고 애원하는 것인가?\\n 아닙니다. 죄송합니다.\\n 죽을 거면 혼자 죽지 우리까지 사건에 휘말리게 해? 진짜 죽여버리고 싶게.\\n 정말 잘못했습니다.\\n 너가 선택해. 너가 죽을래 네 가족을 죽여줄까.\\n 죄송합니다. 정말 잘못했습니다.\\n 너에게는 선택권이 없어. 선택 못한다면 너와 네 가족까지 모조리 죽여버릴거야.\\n 선택 못하겠습니다. 한번만 도와주세요.\\n 그냥 다 죽여버려야겠군. 이의 없지?\\n 제발 도와주세요.'"
      ]
     },
     "execution_count": 19,
     "metadata": {},
     "output_type": "execute_result"
    }
   ],
   "source": [
    "# type(x_train)\n",
    "x_train[0]"
   ]
  },
  {
   "cell_type": "code",
   "execution_count": 20,
   "id": "f3d4e059",
   "metadata": {
    "scrolled": true
   },
   "outputs": [
    {
     "name": "stdout",
     "output_type": "stream",
     "text": [
      "counter: 9996\n",
      "word_to_index: 10000\n"
     ]
    }
   ],
   "source": [
    "X_train= []\n",
    "for sentence in x_train:\n",
    "    temp_X = tokenizer.morphs(sentence)\n",
    "    temp_X = [word for word in temp_X if not word in stopwords]\n",
    "    X_train.append(temp_X)\n",
    "    \n",
    "X_test= []\n",
    "for sentence in x_test:\n",
    "    temp_X = tokenizer.morphs(sentence)\n",
    "    temp_X = [word for word in temp_X if not word in stopwords]\n",
    "    X_test.append(temp_X)\n",
    "\n",
    "    \n",
    "words = np.concatenate(X_train).tolist()\n",
    "counter = Counter(words)\n",
    "counter = counter.most_common(10000-4)\n",
    "print(\"counter:\",   len(counter))\n",
    "vocab = ['<PAD>','<BOS>', '<UNK>', '<UNUSED>'] + [key for key, _ in counter]\n",
    "word_to_index = {word:index for index, word in enumerate(vocab)}\n",
    "print(\"word_to_index:\", len(word_to_index))\n",
    "\n",
    "def wordlist_to_indexlist(wordlist):\n",
    "    return [word_to_index[word] if word in word_to_index else word_to_index['<UNK>'] for word in wordlist]\n",
    "\n",
    "\n",
    "X_train = list(map(wordlist_to_indexlist, X_train))\n",
    "X_test = list(map(wordlist_to_indexlist, X_test))\n",
    "y_test = np.array(y_test)\n",
    "y_train = np.array(y_train)"
   ]
  },
  {
   "cell_type": "code",
   "execution_count": 21,
   "id": "aa33a6b0",
   "metadata": {},
   "outputs": [
    {
     "name": "stdout",
     "output_type": "stream",
     "text": [
      "3076 3076\n",
      "770 770\n"
     ]
    }
   ],
   "source": [
    "print(len(X_train), len(y_train)) \n",
    "print(len(X_test), len(y_test)) "
   ]
  },
  {
   "cell_type": "code",
   "execution_count": null,
   "id": "04919640",
   "metadata": {},
   "outputs": [],
   "source": []
  },
  {
   "cell_type": "code",
   "execution_count": 22,
   "id": "b303e27a",
   "metadata": {},
   "outputs": [],
   "source": [
    "# 문장 1개를 활용할 딕셔너리와 함께 주면, 단어 인덱스 리스트 벡터로 변환해 주는 함수입니다. \n",
    "# 단, 모든 문장은 <BOS>로 시작하는 것으로 합니다. \n",
    "def get_encoded_sentence(sentence, word_to_index):\n",
    "    return [word_to_index['<BOS>']]+[word_to_index[word] if word in word_to_index else word_to_index['<UNK>'] for word in sentence.split()]\n",
    "\n",
    "# 여러 개의 문장 리스트를 한꺼번에 단어 인덱스 리스트 벡터로 encode해 주는 함수입니다. \n",
    "def get_encoded_sentences(sentences, word_to_index):\n",
    "    return [get_encoded_sentence(sentence, word_to_index) for sentence in sentences]\n",
    "\n",
    "# 숫자 벡터로 encode된 문장을 원래대로 decode하는 함수입니다. \n",
    "def get_decoded_sentence(encoded_sentence, index_to_word):\n",
    "    return ' '.join(index_to_word[index] if index in index_to_word else '<UNK>' for index in encoded_sentence[1:])  #[1:]를 통해 <BOS>를 제외\n",
    "\n",
    "# 여러 개의 숫자 벡터로 encode된 문장을 한꺼번에 원래대로 decode하는 함수입니다. \n",
    "def get_decoded_sentences(encoded_sentences, index_to_word):\n",
    "    return [get_decoded_sentence(encoded_sentence, index_to_word) for encoded_sentence in encoded_sentences]"
   ]
  },
  {
   "cell_type": "code",
   "execution_count": 23,
   "id": "9787e3ca",
   "metadata": {},
   "outputs": [
    {
     "name": "stdout",
     "output_type": "stream",
     "text": [
      "num_tokens길이: 3846\n",
      "문장길이 최소: 21\n",
      "문장길이 최대: 394\n",
      "문장길이 평균: 103.80213208528342\n",
      "문장길이 표준편차: 46.752633532284385\n"
     ]
    },
    {
     "data": {
      "image/png": "[encoded data removed]",
      "text/plain": [
       "<Figure size 432x288 with 1 Axes>"
      ]
     },
     "metadata": {
      "needs_background": "light"
     },
     "output_type": "display_data"
    }
   ],
   "source": [
    "# 데이터셋 내 문장 길이 분포 확인\n",
    "total_data_text = list(X_train) + list(X_test)\n",
    "num_tokens = [len(tokens) for tokens in total_data_text]\n",
    "num_tokens = np.array(num_tokens)\n",
    "print(\"num_tokens길이:\", len(num_tokens))  # 195399\n",
    "# print(num_tokens)\n",
    "\n",
    "\n",
    "\n",
    "# 문장길이의 최소값, 최대값, 평균값, 표준편차\n",
    "print('문장길이 최소:', np.min(num_tokens))\n",
    "print('문장길이 최대:', np.max(num_tokens))\n",
    "print('문장길이 평균:', np.mean(num_tokens))\n",
    "print('문장길이 표준편차:', np.std(num_tokens))\n",
    "\n",
    "\n",
    "plt.hist(num_tokens, bins=100)\n",
    "plt.show()"
   ]
  },
  {
   "cell_type": "code",
   "execution_count": 24,
   "id": "36e0b72d",
   "metadata": {},
   "outputs": [
    {
     "name": "stdout",
     "output_type": "stream",
     "text": [
      "pad_sequences maxlen : 197\n",
      "전체 문장의 0.9529%가 설정 가능한 범위내의 비율\n"
     ]
    }
   ],
   "source": [
    "# 최대 길이를 (평균 + 2*표준편차)로 한다면\n",
    "max_tokens = np.mean(num_tokens) + 2*np.std(num_tokens)\n",
    "maxlen = int(max_tokens)\n",
    "\n",
    "print('pad_sequences maxlen :', maxlen)\n",
    "ratio = np.sum(num_tokens<max_tokens)/len(num_tokens)\n",
    "print(f'전체 문장의 {round(ratio, 4)}%가 설정 가능한 범위내의 비율')"
   ]
  },
  {
   "cell_type": "code",
   "execution_count": 25,
   "id": "4777e38c",
   "metadata": {},
   "outputs": [
    {
     "name": "stdout",
     "output_type": "stream",
     "text": [
      "(3076, 197)\n",
      "(770, 197)\n"
     ]
    }
   ],
   "source": [
    "import tensorflow as tf\n",
    "\n",
    "X_train = tf.keras.preprocessing.sequence.pad_sequences(X_train, \n",
    "                                                        value = word_to_index['<PAD>'],\n",
    "                                                        padding='pre',  # 혹은 post\n",
    "                                                        maxlen = maxlen)\n",
    "X_test = tf.keras.preprocessing.sequence.pad_sequences(X_test,\n",
    "                                                       value=word_to_index[\"<PAD>\"],\n",
    "                                                       padding='pre', # 혹은 'post'\n",
    "                                                       maxlen=maxlen)\n",
    "\n",
    "\n",
    "\n",
    "print(X_train.shape)\n",
    "print(X_test.shape)"
   ]
  },
  {
   "cell_type": "code",
   "execution_count": 26,
   "id": "edad844b",
   "metadata": {},
   "outputs": [
    {
     "data": {
      "text/plain": [
       "10000"
      ]
     },
     "execution_count": 26,
     "metadata": {},
     "output_type": "execute_result"
    }
   ],
   "source": [
    "vocab_size = len(word_to_index)\n",
    "num_words = 10000\n",
    "\n",
    "vocab_size"
   ]
  },
  {
   "cell_type": "code",
   "execution_count": null,
   "id": "93e43338",
   "metadata": {},
   "outputs": [],
   "source": []
  },
  {
   "cell_type": "code",
   "execution_count": null,
   "id": "38e03c56",
   "metadata": {},
   "outputs": [],
   "source": []
  },
  {
   "cell_type": "markdown",
   "id": "4288a72a",
   "metadata": {},
   "source": [
    "### Step 3: 모델설계"
   ]
  },
  {
   "cell_type": "code",
   "execution_count": 27,
   "id": "4ddf4b40",
   "metadata": {},
   "outputs": [
    {
     "name": "stdout",
     "output_type": "stream",
     "text": [
      "Model: \"sequential\"\n",
      "_________________________________________________________________\n",
      "Layer (type)                 Output Shape              Param #   \n",
      "=================================================================\n",
      "embedding (Embedding)        (None, 197, 32)           320000    \n",
      "_________________________________________________________________\n",
      "conv1d (Conv1D)              (None, 191, 16)           3600      \n",
      "_________________________________________________________________\n",
      "max_pooling1d (MaxPooling1D) (None, 38, 16)            0         \n",
      "_________________________________________________________________\n",
      "conv1d_1 (Conv1D)            (None, 32, 16)            1808      \n",
      "_________________________________________________________________\n",
      "global_max_pooling1d (Global (None, 16)                0         \n",
      "_________________________________________________________________\n",
      "dense (Dense)                (None, 8)                 136       \n",
      "_________________________________________________________________\n",
      "dense_1 (Dense)              (None, 1)                 9         \n",
      "=================================================================\n",
      "Total params: 325,553\n",
      "Trainable params: 325,553\n",
      "Non-trainable params: 0\n",
      "_________________________________________________________________\n"
     ]
    }
   ],
   "source": [
    "word_vector_dim_cnn = 32\n",
    "\n",
    "\n",
    "model1 = tf.keras.Sequential()\n",
    "model1.add(Embedding(vocab_size, word_vector_dim_cnn, input_length = maxlen))\n",
    "model1.add(Conv1D(16, 7, activation='relu'))\n",
    "model1.add(tf.keras.layers.MaxPooling1D(5))\n",
    "model1.add(Conv1D(16, 7, activation='relu'))\n",
    "model1.add(GlobalMaxPooling1D())\n",
    "model1.add(Dense(8, activation='relu'))\n",
    "model1.add(Dense(1, activation='sigmoid'))\n",
    "\n",
    "model1.summary()"
   ]
  },
  {
   "cell_type": "code",
   "execution_count": 28,
   "id": "eb2d6495",
   "metadata": {},
   "outputs": [
    {
     "name": "stdout",
     "output_type": "stream",
     "text": [
      "Model: \"sequential_1\"\n",
      "_________________________________________________________________\n",
      "Layer (type)                 Output Shape              Param #   \n",
      "=================================================================\n",
      "embedding_1 (Embedding)      (None, 197, 32)           320000    \n",
      "_________________________________________________________________\n",
      "lstm (LSTM)                  (None, 16)                3136      \n",
      "_________________________________________________________________\n",
      "dropout (Dropout)            (None, 16)                0         \n",
      "_________________________________________________________________\n",
      "dense_2 (Dense)              (None, 8)                 136       \n",
      "_________________________________________________________________\n",
      "dense_3 (Dense)              (None, 1)                 9         \n",
      "=================================================================\n",
      "Total params: 323,281\n",
      "Trainable params: 323,281\n",
      "Non-trainable params: 0\n",
      "_________________________________________________________________\n"
     ]
    }
   ],
   "source": [
    "word_vector_dim_lstm = 32  # 워드 벡터의 차원 수 (변경 가능한 하이퍼파라미터)\n",
    "\n",
    "model2 = tf.keras.Sequential()\n",
    "model2.add(tf.keras.layers.Embedding(vocab_size, word_vector_dim_lstm, input_length=maxlen))   # trainable을 True로 주면 Fine-tuning\n",
    "model2.add(tf.keras.layers.LSTM(16))\n",
    "model2.add(tf.keras.layers.Dropout(0.2))\n",
    "model2.add(tf.keras.layers.Dense(8, activation='sigmoid')) \n",
    "model2.add(tf.keras.layers.Dense(1, activation='sigmoid')) \n",
    "\n",
    "model2.summary()"
   ]
  },
  {
   "cell_type": "code",
   "execution_count": 29,
   "id": "00b8eae4",
   "metadata": {},
   "outputs": [
    {
     "name": "stdout",
     "output_type": "stream",
     "text": [
      "Model: \"sequential_2\"\n",
      "_________________________________________________________________\n",
      "Layer (type)                 Output Shape              Param #   \n",
      "=================================================================\n",
      "embedding_2 (Embedding)      (None, 197, 32)           320000    \n",
      "_________________________________________________________________\n",
      "gru (GRU)                    (None, 16)                2400      \n",
      "_________________________________________________________________\n",
      "dropout_1 (Dropout)          (None, 16)                0         \n",
      "_________________________________________________________________\n",
      "dense_4 (Dense)              (None, 8)                 136       \n",
      "_________________________________________________________________\n",
      "dense_5 (Dense)              (None, 1)                 9         \n",
      "=================================================================\n",
      "Total params: 322,545\n",
      "Trainable params: 322,545\n",
      "Non-trainable params: 0\n",
      "_________________________________________________________________\n"
     ]
    }
   ],
   "source": [
    "# (3) GRU\n",
    "\n",
    "word_vector_dim_GRU = 32  # 단어 하나를 표현하는 임베딩 벡터의 차원수 (변경가능)\n",
    "\n",
    "# GRU 레이어로 모델 설계\n",
    "model3 = tf.keras.Sequential()\n",
    "model3.add(tf.keras.layers.Embedding(vocab_size, word_vector_dim_GRU, input_length = maxlen))\n",
    "model3.add(tf.keras.layers.GRU(16))  # GRU state 벡터의 차원수 (변경가능)\n",
    "model3.add(tf.keras.layers.Dropout(0.2))\n",
    "model3.add(tf.keras.layers.Dense(8, activation='sigmoid'))\n",
    "model3.add(tf.keras.layers.Dense(1, activation='sigmoid'))  # 최종 출력은 긍정/부정을 나타내는 1dim\n",
    "\n",
    "model3.summary()"
   ]
  },
  {
   "cell_type": "code",
   "execution_count": 30,
   "id": "943a1e80",
   "metadata": {},
   "outputs": [
    {
     "name": "stdout",
     "output_type": "stream",
     "text": [
      "Model: \"sequential_3\"\n",
      "_________________________________________________________________\n",
      "Layer (type)                 Output Shape              Param #   \n",
      "=================================================================\n",
      "embedding_3 (Embedding)      (None, 197, 32)           320000    \n",
      "_________________________________________________________________\n",
      "bidirectional (Bidirectional (None, 32)                6272      \n",
      "_________________________________________________________________\n",
      "dropout_2 (Dropout)          (None, 32)                0         \n",
      "_________________________________________________________________\n",
      "dense_6 (Dense)              (None, 8)                 264       \n",
      "_________________________________________________________________\n",
      "dense_7 (Dense)              (None, 1)                 9         \n",
      "=================================================================\n",
      "Total params: 326,545\n",
      "Trainable params: 326,545\n",
      "Non-trainable params: 0\n",
      "_________________________________________________________________\n"
     ]
    }
   ],
   "source": [
    "word_vector_dim_Bi = 32  # 워드 벡터의 차원 수 (변경 가능한 하이퍼파라미터)\n",
    "\n",
    "model4 = tf.keras.Sequential()\n",
    "model4.add(tf.keras.layers.Embedding(vocab_size, word_vector_dim_Bi, input_length=maxlen))   # trainable을 True로 주면 Fine-tuning\n",
    "model4.add(tf.keras.layers.Bidirectional(LSTM(16)))\n",
    "model4.add(tf.keras.layers.Dropout(0.2))\n",
    "model4.add(tf.keras.layers.Dense(8, activation='sigmoid')) \n",
    "model4.add(tf.keras.layers.Dense(1, activation='sigmoid')) \n",
    "\n",
    "model4.summary()"
   ]
  },
  {
   "cell_type": "code",
   "execution_count": null,
   "id": "7d3d85d8",
   "metadata": {},
   "outputs": [],
   "source": []
  },
  {
   "cell_type": "code",
   "execution_count": null,
   "id": "5ff7a061",
   "metadata": {},
   "outputs": [],
   "source": []
  },
  {
   "cell_type": "markdown",
   "id": "d1f238f0",
   "metadata": {},
   "source": [
    "### Step 4: 훈련하기"
   ]
  },
  {
   "cell_type": "markdown",
   "id": "3e7b848b",
   "metadata": {},
   "source": [
    "모델 바꿔가면서 실험 가능 \n",
    "1) 1D CNN\n",
    "2) LSTM\n",
    "3) GRU\n",
    "4) BiLSTM"
   ]
  },
  {
   "cell_type": "code",
   "execution_count": 34,
   "id": "709abbec",
   "metadata": {},
   "outputs": [
    {
     "name": "stdout",
     "output_type": "stream",
     "text": [
      "Epoch 1/10\n",
      "97/97 [==============================] - 1s 10ms/step - loss: -6.3858 - accuracy: 0.2542 - val_loss: -7.1614 - val_accuracy: 0.2481\n",
      "Epoch 2/10\n",
      "97/97 [==============================] - 1s 9ms/step - loss: -6.6736 - accuracy: 0.2542 - val_loss: -7.4743 - val_accuracy: 0.2481\n",
      "Epoch 3/10\n",
      "97/97 [==============================] - 1s 9ms/step - loss: -6.9611 - accuracy: 0.2542 - val_loss: -7.7898 - val_accuracy: 0.2481\n",
      "Epoch 4/10\n",
      "97/97 [==============================] - 1s 9ms/step - loss: -7.2503 - accuracy: 0.2542 - val_loss: -8.1069 - val_accuracy: 0.2481\n",
      "Epoch 5/10\n",
      "97/97 [==============================] - 1s 9ms/step - loss: -7.5391 - accuracy: 0.2542 - val_loss: -8.4253 - val_accuracy: 0.2481\n",
      "Epoch 6/10\n",
      "97/97 [==============================] - 1s 10ms/step - loss: -7.8263 - accuracy: 0.2542 - val_loss: -8.7378 - val_accuracy: 0.2481\n",
      "Epoch 7/10\n",
      "97/97 [==============================] - 1s 9ms/step - loss: -8.1176 - accuracy: 0.2542 - val_loss: -9.0563 - val_accuracy: 0.2481\n",
      "Epoch 8/10\n",
      "97/97 [==============================] - 1s 9ms/step - loss: -8.4073 - accuracy: 0.2542 - val_loss: -9.3737 - val_accuracy: 0.2481\n",
      "Epoch 9/10\n",
      "97/97 [==============================] - 1s 9ms/step - loss: -8.6990 - accuracy: 0.2542 - val_loss: -9.6929 - val_accuracy: 0.2481\n",
      "Epoch 10/10\n",
      "97/97 [==============================] - 1s 10ms/step - loss: -8.9925 - accuracy: 0.2542 - val_loss: -10.0129 - val_accuracy: 0.2481\n"
     ]
    }
   ],
   "source": [
    "# model1_CNN (loss: -6.3858 - accuracy: 0.2542 - val_loss: -7.1614 - val_accuracy: 0.2481)\n",
    "\n",
    "model1.compile(optimizer='adam',\n",
    "              loss='binary_crossentropy',\n",
    "              metrics=['accuracy'])\n",
    "              \n",
    "epochs=10  # overfitting 방지를 위해 epoch낮춤 \n",
    "\n",
    "history = model3.fit(X_train, \n",
    "                     y_train,\n",
    "                     epochs=epochs,\n",
    "                     batch_size=32,\n",
    "                     validation_data=(X_test, y_test),\n",
    "                     verbose=1)"
   ]
  },
  {
   "cell_type": "code",
   "execution_count": 33,
   "id": "1aa7a7f4",
   "metadata": {},
   "outputs": [
    {
     "name": "stdout",
     "output_type": "stream",
     "text": [
      "Epoch 1/10\n",
      "97/97 [==============================] - 1s 10ms/step - loss: -3.5427 - accuracy: 0.2542 - val_loss: -4.0413 - val_accuracy: 0.2481\n",
      "Epoch 2/10\n",
      "97/97 [==============================] - 1s 10ms/step - loss: -3.8201 - accuracy: 0.2542 - val_loss: -4.3485 - val_accuracy: 0.2481\n",
      "Epoch 3/10\n",
      "97/97 [==============================] - 1s 9ms/step - loss: -4.1022 - accuracy: 0.2542 - val_loss: -4.6584 - val_accuracy: 0.2481\n",
      "Epoch 4/10\n",
      "97/97 [==============================] - 1s 9ms/step - loss: -4.3863 - accuracy: 0.2542 - val_loss: -4.9674 - val_accuracy: 0.2481\n",
      "Epoch 5/10\n",
      "97/97 [==============================] - 1s 9ms/step - loss: -4.6689 - accuracy: 0.2542 - val_loss: -5.2785 - val_accuracy: 0.2481\n",
      "Epoch 6/10\n",
      "97/97 [==============================] - 1s 9ms/step - loss: -4.9511 - accuracy: 0.2542 - val_loss: -5.5832 - val_accuracy: 0.2481\n",
      "Epoch 7/10\n",
      "97/97 [==============================] - 1s 9ms/step - loss: -5.2353 - accuracy: 0.2542 - val_loss: -5.8975 - val_accuracy: 0.2481\n",
      "Epoch 8/10\n",
      "97/97 [==============================] - 1s 10ms/step - loss: -5.5184 - accuracy: 0.2542 - val_loss: -6.2099 - val_accuracy: 0.2481\n",
      "Epoch 9/10\n",
      "97/97 [==============================] - 1s 9ms/step - loss: -5.8086 - accuracy: 0.2542 - val_loss: -6.5279 - val_accuracy: 0.2481\n",
      "Epoch 10/10\n",
      "97/97 [==============================] - 1s 9ms/step - loss: -6.0981 - accuracy: 0.2542 - val_loss: -6.8415 - val_accuracy: 0.2481\n"
     ]
    }
   ],
   "source": [
    "# model2_LSTM (loss: -3.5427 - accuracy: 0.2542 - val_loss: -4.0413 - val_accuracy: 0.2481)\n",
    "\n",
    "model2.compile(optimizer='adam',\n",
    "              loss='binary_crossentropy',\n",
    "              metrics=['accuracy'])\n",
    "              \n",
    "epochs=10  # overfitting 방지를 위해 epoch낮춤 \n",
    "\n",
    "history = model3.fit(X_train, \n",
    "                     y_train,\n",
    "                     epochs=epochs,\n",
    "                     batch_size=32,\n",
    "                     validation_data=(X_test, y_test),\n",
    "                     verbose=1)\n"
   ]
  },
  {
   "cell_type": "code",
   "execution_count": 32,
   "id": "1ee3f8f0",
   "metadata": {},
   "outputs": [
    {
     "name": "stdout",
     "output_type": "stream",
     "text": [
      "Epoch 1/10\n",
      "97/97 [==============================] - 5s 14ms/step - loss: 0.1279 - accuracy: 0.2575 - val_loss: -0.6897 - val_accuracy: 0.2481\n",
      "Epoch 2/10\n",
      "97/97 [==============================] - 1s 10ms/step - loss: -0.8322 - accuracy: 0.2542 - val_loss: -1.1594 - val_accuracy: 0.2481\n",
      "Epoch 3/10\n",
      "97/97 [==============================] - 1s 10ms/step - loss: -1.2157 - accuracy: 0.2542 - val_loss: -1.5309 - val_accuracy: 0.2481\n",
      "Epoch 4/10\n",
      "97/97 [==============================] - 1s 9ms/step - loss: -1.5391 - accuracy: 0.2542 - val_loss: -1.8657 - val_accuracy: 0.2481\n",
      "Epoch 5/10\n",
      "97/97 [==============================] - 1s 9ms/step - loss: -1.8412 - accuracy: 0.2542 - val_loss: -2.1857 - val_accuracy: 0.2481\n",
      "Epoch 6/10\n",
      "97/97 [==============================] - 1s 9ms/step - loss: -2.1325 - accuracy: 0.2542 - val_loss: -2.4984 - val_accuracy: 0.2481\n",
      "Epoch 7/10\n",
      "97/97 [==============================] - 1s 9ms/step - loss: -2.4180 - accuracy: 0.2542 - val_loss: -2.8093 - val_accuracy: 0.2481\n",
      "Epoch 8/10\n",
      "97/97 [==============================] - 1s 9ms/step - loss: -2.6977 - accuracy: 0.2542 - val_loss: -3.1135 - val_accuracy: 0.2481\n",
      "Epoch 9/10\n",
      "97/97 [==============================] - 1s 10ms/step - loss: -2.9778 - accuracy: 0.2542 - val_loss: -3.4242 - val_accuracy: 0.2481\n",
      "Epoch 10/10\n",
      "97/97 [==============================] - 1s 9ms/step - loss: -3.2595 - accuracy: 0.2542 - val_loss: -3.7291 - val_accuracy: 0.2481\n"
     ]
    }
   ],
   "source": [
    "# model3_GRU (loss: 0.1279 - accuracy: 0.2575 - val_loss: -0.6897 - val_accuracy: 0.2481)\n",
    "\n",
    "model3.compile(optimizer='adam',\n",
    "              loss='binary_crossentropy',\n",
    "              metrics=['accuracy'])\n",
    "              \n",
    "epochs=10  # overfitting 방지를 위해 epoch낮춤 \n",
    "\n",
    "history = model3.fit(X_train, \n",
    "                     y_train,\n",
    "                     epochs=epochs,\n",
    "                     batch_size=32,\n",
    "                     validation_data=(X_test, y_test),\n",
    "                     verbose=1)"
   ]
  },
  {
   "cell_type": "code",
   "execution_count": 35,
   "id": "3f0c4047",
   "metadata": {},
   "outputs": [
    {
     "name": "stdout",
     "output_type": "stream",
     "text": [
      "Epoch 1/10\n",
      "97/97 [==============================] - 1s 11ms/step - loss: -9.2861 - accuracy: 0.2542 - val_loss: -10.3372 - val_accuracy: 0.2481\n",
      "Epoch 2/10\n",
      "97/97 [==============================] - 1s 9ms/step - loss: -9.5818 - accuracy: 0.2542 - val_loss: -10.6644 - val_accuracy: 0.2481\n",
      "Epoch 3/10\n",
      "97/97 [==============================] - 1s 9ms/step - loss: -9.8738 - accuracy: 0.2542 - val_loss: -10.9836 - val_accuracy: 0.2481\n",
      "Epoch 4/10\n",
      "97/97 [==============================] - 1s 9ms/step - loss: -10.1679 - accuracy: 0.2542 - val_loss: -11.3057 - val_accuracy: 0.2481\n",
      "Epoch 5/10\n",
      "97/97 [==============================] - 1s 9ms/step - loss: -10.4604 - accuracy: 0.2542 - val_loss: -11.6224 - val_accuracy: 0.2481\n",
      "Epoch 6/10\n",
      "97/97 [==============================] - 1s 9ms/step - loss: -10.7521 - accuracy: 0.2542 - val_loss: -11.9417 - val_accuracy: 0.2481\n",
      "Epoch 7/10\n",
      "97/97 [==============================] - 1s 9ms/step - loss: -11.0388 - accuracy: 0.2542 - val_loss: -12.2560 - val_accuracy: 0.2481\n",
      "Epoch 8/10\n",
      "97/97 [==============================] - 1s 9ms/step - loss: -11.3296 - accuracy: 0.2542 - val_loss: -12.5772 - val_accuracy: 0.2481\n",
      "Epoch 9/10\n",
      "97/97 [==============================] - 1s 9ms/step - loss: -11.6206 - accuracy: 0.2542 - val_loss: -12.8952 - val_accuracy: 0.2481\n",
      "Epoch 10/10\n",
      "97/97 [==============================] - 1s 9ms/step - loss: -11.9147 - accuracy: 0.2542 - val_loss: -13.2163 - val_accuracy: 0.2481\n"
     ]
    }
   ],
   "source": [
    "# model4 _Bidirectional (loss: -9.2861 - accuracy: 0.2542 - val_loss: -10.3372 - val_accuracy: 0.2481)\n",
    "model4.compile(optimizer='adam',\n",
    "              loss='binary_crossentropy',\n",
    "              metrics=['accuracy'])\n",
    "              \n",
    "epochs=10  # overfitting 방지를 위해 epoch낮춤 \n",
    "\n",
    "history = model3.fit(X_train, \n",
    "                     y_train,\n",
    "                     epochs=epochs,\n",
    "                     batch_size=32,\n",
    "                     validation_data=(X_test, y_test),\n",
    "                     verbose=1)"
   ]
  },
  {
   "cell_type": "code",
   "execution_count": null,
   "id": "40200b86",
   "metadata": {},
   "outputs": [],
   "source": []
  },
  {
   "cell_type": "code",
   "execution_count": null,
   "id": "5fcd2751",
   "metadata": {},
   "outputs": [],
   "source": []
  },
  {
   "cell_type": "code",
   "execution_count": null,
   "id": "c486798f",
   "metadata": {},
   "outputs": [],
   "source": []
  },
  {
   "cell_type": "code",
   "execution_count": null,
   "id": "aadfeeb5",
   "metadata": {},
   "outputs": [],
   "source": []
  },
  {
   "cell_type": "code",
   "execution_count": null,
   "id": "4d5cd33c",
   "metadata": {},
   "outputs": [],
   "source": []
  },
  {
   "cell_type": "code",
   "execution_count": null,
   "id": "215efd99",
   "metadata": {},
   "outputs": [],
   "source": []
  },
  {
   "cell_type": "code",
   "execution_count": null,
   "id": "5ad59db8",
   "metadata": {},
   "outputs": [],
   "source": []
  }
 ],
 "metadata": {
  "kernelspec": {
   "display_name": "Python 3 (ipykernel)",
   "language": "python",
   "name": "python3"
  },
  "language_info": {
   "codemirror_mode": {
    "name": "ipython",
    "version": 3
   },
   "file_extension": ".py",
   "mimetype": "text/x-python",
   "name": "python",
   "nbconvert_exporter": "python",
   "pygments_lexer": "ipython3",
   "version": "3.9.7"
  }
 },
 "nbformat": 4,
 "nbformat_minor": 5
}
